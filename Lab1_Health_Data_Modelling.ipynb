{
 "cells": [
  {
   "cell_type": "markdown",
   "metadata": {
    "id": "-Tnj-O3ytJPc"
   },
   "source": [
    "# **M2-INASYS / OPTIMSYS Course 1: Assignment**\n"
   ]
  },
  {
   "cell_type": "markdown",
   "metadata": {
    "id": "1QI-gszCuXyu"
   },
   "source": [
    "## **Topic : Obesity modelling**"
   ]
  },
  {
   "cell_type": "markdown",
   "metadata": {
    "id": "cvRY2MsHuVMI"
   },
   "source": [
    "Overweight and obesity are considered by the WHO as serious health concerns. They pose health risks to all individuals living with these conditions. The WHO defines obesity as an abnormal or excessive accumulation of body fat that significantly impacts both a patient’s daily life and overall health.\n",
    "\n",
    "Faced with this serious health issue, imagine you have been tasked with modeling the problem. The goal is to build a predictive model using historical data about people suffering from obesity, in order to guide public health measures. Based on specific characteristics, the model would help determine an individual’s level or risk of obesity.\n",
    "\n",
    "![image.png](https://encrypted-tbn0.gstatic.com/images?q=tbn:ANd9GcQzA1xo7EZ1ZHwDutoxg7416XBcErk_P7f0Pg&s)\n",
    "\n",
    "\n",
    "As **SARA la Data**, go to https://github.com/EDJINEDJA/Health-Data-modelling.git to download historical information about people suffering from obesity in order to begin the modeling process. The data, located in the **lab1** folder and in CSV format (Comma-Separated Values), is now your property. Enjoy!\n",
    "\n",
    "\n",
    "\n",
    "*!!!!!!* **The expected files are: the report and the code.**"
   ]
  },
  {
   "cell_type": "markdown",
   "metadata": {
    "id": "Jt2FR_fqZyZD"
   },
   "source": [
    "# **Section 1**"
   ]
  },
  {
   "cell_type": "markdown",
   "metadata": {
    "id": "DA6gHb-Jyn6s"
   },
   "source": [
    "### **Part 1**"
   ]
  },
  {
   "cell_type": "markdown",
   "metadata": {
    "id": "d7GGu9jgyPkt"
   },
   "source": [
    "#### Q1: Use both your clinical knowledge and data analysis background to describe and present the data provided to you."
   ]
  },
  {
   "cell_type": "markdown",
   "metadata": {
    "id": "yELOZuksDhHj"
   },
   "source": [
    "Answer : "
   ]
  },
  {
   "cell_type": "code",
   "execution_count": 1,
   "metadata": {},
   "outputs": [],
   "source": [
    "#importation des biblio\n",
    "import pandas as pd \n",
    "import numpy as np \n",
    "import matplotlib.pyplot as plt\n",
    "import seaborn as sns"
   ]
  },
  {
   "cell_type": "markdown",
   "metadata": {
    "jp-MarkdownHeadingCollapsed": true
   },
   "source": [
    "###### obesity_binary"
   ]
  },
  {
   "cell_type": "code",
   "execution_count": 3,
   "metadata": {},
   "outputs": [
    {
     "name": "stdout",
     "output_type": "stream",
     "text": [
      "(8, 7)\n"
     ]
    },
    {
     "data": {
      "text/html": [
       "<div>\n",
       "<style scoped>\n",
       "    .dataframe tbody tr th:only-of-type {\n",
       "        vertical-align: middle;\n",
       "    }\n",
       "\n",
       "    .dataframe tbody tr th {\n",
       "        vertical-align: top;\n",
       "    }\n",
       "\n",
       "    .dataframe thead th {\n",
       "        text-align: right;\n",
       "    }\n",
       "</style>\n",
       "<table border=\"1\" class=\"dataframe\">\n",
       "  <thead>\n",
       "    <tr style=\"text-align: right;\">\n",
       "      <th></th>\n",
       "      <th>Age</th>\n",
       "      <th>Gender</th>\n",
       "      <th>Height</th>\n",
       "      <th>Weight</th>\n",
       "      <th>BMI</th>\n",
       "      <th>PhysicalActivityLevel</th>\n",
       "      <th>ObesityCategory</th>\n",
       "    </tr>\n",
       "  </thead>\n",
       "  <tbody>\n",
       "    <tr>\n",
       "      <th>0</th>\n",
       "      <td>0</td>\n",
       "      <td>0</td>\n",
       "      <td>1</td>\n",
       "      <td>0</td>\n",
       "      <td>0</td>\n",
       "      <td>1</td>\n",
       "      <td>0</td>\n",
       "    </tr>\n",
       "    <tr>\n",
       "      <th>1</th>\n",
       "      <td>1</td>\n",
       "      <td>1</td>\n",
       "      <td>0</td>\n",
       "      <td>1</td>\n",
       "      <td>1</td>\n",
       "      <td>0</td>\n",
       "      <td>1</td>\n",
       "    </tr>\n",
       "    <tr>\n",
       "      <th>2</th>\n",
       "      <td>0</td>\n",
       "      <td>1</td>\n",
       "      <td>1</td>\n",
       "      <td>1</td>\n",
       "      <td>1</td>\n",
       "      <td>0</td>\n",
       "      <td>1</td>\n",
       "    </tr>\n",
       "    <tr>\n",
       "      <th>3</th>\n",
       "      <td>1</td>\n",
       "      <td>0</td>\n",
       "      <td>1</td>\n",
       "      <td>1</td>\n",
       "      <td>1</td>\n",
       "      <td>0</td>\n",
       "      <td>1</td>\n",
       "    </tr>\n",
       "    <tr>\n",
       "      <th>4</th>\n",
       "      <td>1</td>\n",
       "      <td>1</td>\n",
       "      <td>0</td>\n",
       "      <td>0</td>\n",
       "      <td>0</td>\n",
       "      <td>1</td>\n",
       "      <td>0</td>\n",
       "    </tr>\n",
       "    <tr>\n",
       "      <th>5</th>\n",
       "      <td>0</td>\n",
       "      <td>0</td>\n",
       "      <td>0</td>\n",
       "      <td>1</td>\n",
       "      <td>1</td>\n",
       "      <td>1</td>\n",
       "      <td>1</td>\n",
       "    </tr>\n",
       "    <tr>\n",
       "      <th>6</th>\n",
       "      <td>0</td>\n",
       "      <td>1</td>\n",
       "      <td>1</td>\n",
       "      <td>0</td>\n",
       "      <td>0</td>\n",
       "      <td>1</td>\n",
       "      <td>0</td>\n",
       "    </tr>\n",
       "    <tr>\n",
       "      <th>7</th>\n",
       "      <td>1</td>\n",
       "      <td>0</td>\n",
       "      <td>0</td>\n",
       "      <td>1</td>\n",
       "      <td>1</td>\n",
       "      <td>0</td>\n",
       "      <td>1</td>\n",
       "    </tr>\n",
       "  </tbody>\n",
       "</table>\n",
       "</div>"
      ],
      "text/plain": [
       "   Age  Gender  Height  Weight  BMI  PhysicalActivityLevel  ObesityCategory\n",
       "0    0       0       1       0    0                      1                0\n",
       "1    1       1       0       1    1                      0                1\n",
       "2    0       1       1       1    1                      0                1\n",
       "3    1       0       1       1    1                      0                1\n",
       "4    1       1       0       0    0                      1                0\n",
       "5    0       0       0       1    1                      1                1\n",
       "6    0       1       1       0    0                      1                0\n",
       "7    1       0       0       1    1                      0                1"
      ]
     },
     "execution_count": 3,
     "metadata": {},
     "output_type": "execute_result"
    }
   ],
   "source": [
    "df_binary=pd.read_csv('Health-Data-modelling/lab1/obesity_binary.csv')\n",
    "print(df_binary.shape)\n",
    "df_binary"
   ]
  },
  {
   "cell_type": "markdown",
   "metadata": {},
   "source": [
    "###### obesity_data"
   ]
  },
  {
   "cell_type": "markdown",
   "metadata": {},
   "source": [
    "**variable target** : ObesityCategory ['Normal weight', 'Obese', 'Overweight', 'Underweight']\n",
    "\n",
    "**lignes et colonnes** : 1000, 7\n",
    "\n",
    "**variables** : Age , Gender, Height, Weight, BMI, PhysicalActivityLevel\n",
    "\n",
    "**types de variables** : qualitatives : 29%, quantitatives : 61%\n",
    "\n",
    "**Analyse des valeurs manquantes** : aucune valeure null"
   ]
  },
  {
   "cell_type": "code",
   "execution_count": 6,
   "metadata": {},
   "outputs": [
    {
     "name": "stdout",
     "output_type": "stream",
     "text": [
      "(1000, 7)\n"
     ]
    },
    {
     "data": {
      "text/html": [
       "<div>\n",
       "<style scoped>\n",
       "    .dataframe tbody tr th:only-of-type {\n",
       "        vertical-align: middle;\n",
       "    }\n",
       "\n",
       "    .dataframe tbody tr th {\n",
       "        vertical-align: top;\n",
       "    }\n",
       "\n",
       "    .dataframe thead th {\n",
       "        text-align: right;\n",
       "    }\n",
       "</style>\n",
       "<table border=\"1\" class=\"dataframe\">\n",
       "  <thead>\n",
       "    <tr style=\"text-align: right;\">\n",
       "      <th></th>\n",
       "      <th>Age</th>\n",
       "      <th>Gender</th>\n",
       "      <th>Height</th>\n",
       "      <th>Weight</th>\n",
       "      <th>BMI</th>\n",
       "      <th>PhysicalActivityLevel</th>\n",
       "      <th>ObesityCategory</th>\n",
       "    </tr>\n",
       "  </thead>\n",
       "  <tbody>\n",
       "    <tr>\n",
       "      <th>0</th>\n",
       "      <td>56</td>\n",
       "      <td>Male</td>\n",
       "      <td>173.575262</td>\n",
       "      <td>71.982051</td>\n",
       "      <td>23.891783</td>\n",
       "      <td>4</td>\n",
       "      <td>Normal weight</td>\n",
       "    </tr>\n",
       "    <tr>\n",
       "      <th>1</th>\n",
       "      <td>69</td>\n",
       "      <td>Male</td>\n",
       "      <td>164.127306</td>\n",
       "      <td>89.959256</td>\n",
       "      <td>33.395209</td>\n",
       "      <td>2</td>\n",
       "      <td>Obese</td>\n",
       "    </tr>\n",
       "    <tr>\n",
       "      <th>2</th>\n",
       "      <td>46</td>\n",
       "      <td>Female</td>\n",
       "      <td>168.072202</td>\n",
       "      <td>72.930629</td>\n",
       "      <td>25.817737</td>\n",
       "      <td>4</td>\n",
       "      <td>Overweight</td>\n",
       "    </tr>\n",
       "    <tr>\n",
       "      <th>3</th>\n",
       "      <td>32</td>\n",
       "      <td>Male</td>\n",
       "      <td>168.459633</td>\n",
       "      <td>84.886912</td>\n",
       "      <td>29.912247</td>\n",
       "      <td>3</td>\n",
       "      <td>Overweight</td>\n",
       "    </tr>\n",
       "    <tr>\n",
       "      <th>4</th>\n",
       "      <td>60</td>\n",
       "      <td>Male</td>\n",
       "      <td>183.568568</td>\n",
       "      <td>69.038945</td>\n",
       "      <td>20.487903</td>\n",
       "      <td>3</td>\n",
       "      <td>Normal weight</td>\n",
       "    </tr>\n",
       "  </tbody>\n",
       "</table>\n",
       "</div>"
      ],
      "text/plain": [
       "   Age  Gender      Height     Weight        BMI  PhysicalActivityLevel  \\\n",
       "0   56    Male  173.575262  71.982051  23.891783                      4   \n",
       "1   69    Male  164.127306  89.959256  33.395209                      2   \n",
       "2   46  Female  168.072202  72.930629  25.817737                      4   \n",
       "3   32    Male  168.459633  84.886912  29.912247                      3   \n",
       "4   60    Male  183.568568  69.038945  20.487903                      3   \n",
       "\n",
       "  ObesityCategory  \n",
       "0   Normal weight  \n",
       "1           Obese  \n",
       "2      Overweight  \n",
       "3      Overweight  \n",
       "4   Normal weight  "
      ]
     },
     "execution_count": 6,
     "metadata": {},
     "output_type": "execute_result"
    }
   ],
   "source": [
    "df=pd.read_csv('Health-Data-modelling/lab1/obesity_data.csv')\n",
    "print(df.shape)\n",
    "df.head()"
   ]
  },
  {
   "cell_type": "code",
   "execution_count": 7,
   "metadata": {},
   "outputs": [
    {
     "data": {
      "text/plain": [
       "array(['Normal weight', 'Obese', 'Overweight', 'Underweight'],\n",
       "      dtype=object)"
      ]
     },
     "execution_count": 7,
     "metadata": {},
     "output_type": "execute_result"
    }
   ],
   "source": [
    "#pour afficher les valeur de la variable  ObesityCategory\n",
    "df['ObesityCategory'].unique()"
   ]
  },
  {
   "cell_type": "code",
   "execution_count": 8,
   "metadata": {},
   "outputs": [
    {
     "name": "stdout",
     "output_type": "stream",
     "text": [
      "<class 'pandas.core.frame.DataFrame'>\n",
      "RangeIndex: 1000 entries, 0 to 999\n",
      "Data columns (total 7 columns):\n",
      " #   Column                 Non-Null Count  Dtype  \n",
      "---  ------                 --------------  -----  \n",
      " 0   Age                    1000 non-null   int64  \n",
      " 1   Gender                 1000 non-null   object \n",
      " 2   Height                 1000 non-null   float64\n",
      " 3   Weight                 1000 non-null   float64\n",
      " 4   BMI                    1000 non-null   float64\n",
      " 5   PhysicalActivityLevel  1000 non-null   int64  \n",
      " 6   ObesityCategory        1000 non-null   object \n",
      "dtypes: float64(3), int64(2), object(2)\n",
      "memory usage: 54.8+ KB\n"
     ]
    }
   ],
   "source": [
    "df.info()"
   ]
  },
  {
   "cell_type": "code",
   "execution_count": 46,
   "metadata": {},
   "outputs": [
    {
     "data": {
      "text/plain": [
       "<Axes: ylabel='proportion'>"
      ]
     },
     "execution_count": 46,
     "metadata": {},
     "output_type": "execute_result"
    },
    {
     "data": {
      "image/png": "[encoded data removed]",
      "text/plain": [
       "<Figure size 640x480 with 1 Axes>"
      ]
     },
     "metadata": {},
     "output_type": "display_data"
    }
   ],
   "source": [
    "df.dtypes.value_counts('%').plot.pie()"
   ]
  },
  {
   "cell_type": "code",
   "execution_count": 10,
   "metadata": {},
   "outputs": [
    {
     "data": {
      "text/plain": [
       "Age                      0\n",
       "Gender                   0\n",
       "Height                   0\n",
       "Weight                   0\n",
       "BMI                      0\n",
       "PhysicalActivityLevel    0\n",
       "ObesityCategory          0\n",
       "dtype: int64"
      ]
     },
     "execution_count": 10,
     "metadata": {},
     "output_type": "execute_result"
    }
   ],
   "source": [
    "df.isna().sum()"
   ]
  },
  {
   "cell_type": "code",
   "execution_count": 11,
   "metadata": {},
   "outputs": [
    {
     "data": {
      "text/plain": [
       "<Axes: >"
      ]
     },
     "execution_count": 11,
     "metadata": {},
     "output_type": "execute_result"
    },
    {
     "data": {
      "image/png": "[encoded data removed]",
      "text/plain": [
       "<Figure size 640x480 with 1 Axes>"
      ]
     },
     "metadata": {},
     "output_type": "display_data"
    }
   ],
   "source": [
    "# juste pour afficher le dataset en entier , toute est noir donc  pas de valeurs manqantes \n",
    "sns.heatmap(df.isna(),cbar=False)"
   ]
  },
  {
   "cell_type": "code",
   "execution_count": 12,
   "metadata": {},
   "outputs": [
    {
     "data": {
      "text/html": [
       "<div>\n",
       "<style scoped>\n",
       "    .dataframe tbody tr th:only-of-type {\n",
       "        vertical-align: middle;\n",
       "    }\n",
       "\n",
       "    .dataframe tbody tr th {\n",
       "        vertical-align: top;\n",
       "    }\n",
       "\n",
       "    .dataframe thead th {\n",
       "        text-align: right;\n",
       "    }\n",
       "</style>\n",
       "<table border=\"1\" class=\"dataframe\">\n",
       "  <thead>\n",
       "    <tr style=\"text-align: right;\">\n",
       "      <th></th>\n",
       "      <th>Age</th>\n",
       "      <th>Height</th>\n",
       "      <th>Weight</th>\n",
       "      <th>BMI</th>\n",
       "      <th>PhysicalActivityLevel</th>\n",
       "    </tr>\n",
       "  </thead>\n",
       "  <tbody>\n",
       "    <tr>\n",
       "      <th>count</th>\n",
       "      <td>1000.000000</td>\n",
       "      <td>1000.000000</td>\n",
       "      <td>1000.000000</td>\n",
       "      <td>1000.000000</td>\n",
       "      <td>1000.000000</td>\n",
       "    </tr>\n",
       "    <tr>\n",
       "      <th>mean</th>\n",
       "      <td>49.857000</td>\n",
       "      <td>170.052417</td>\n",
       "      <td>71.205769</td>\n",
       "      <td>24.888317</td>\n",
       "      <td>2.534000</td>\n",
       "    </tr>\n",
       "    <tr>\n",
       "      <th>std</th>\n",
       "      <td>18.114267</td>\n",
       "      <td>10.309971</td>\n",
       "      <td>15.509849</td>\n",
       "      <td>6.193912</td>\n",
       "      <td>1.116284</td>\n",
       "    </tr>\n",
       "    <tr>\n",
       "      <th>min</th>\n",
       "      <td>18.000000</td>\n",
       "      <td>136.115719</td>\n",
       "      <td>26.065730</td>\n",
       "      <td>8.470572</td>\n",
       "      <td>1.000000</td>\n",
       "    </tr>\n",
       "    <tr>\n",
       "      <th>25%</th>\n",
       "      <td>35.000000</td>\n",
       "      <td>163.514205</td>\n",
       "      <td>61.129629</td>\n",
       "      <td>20.918068</td>\n",
       "      <td>2.000000</td>\n",
       "    </tr>\n",
       "    <tr>\n",
       "      <th>50%</th>\n",
       "      <td>50.000000</td>\n",
       "      <td>169.801665</td>\n",
       "      <td>71.929072</td>\n",
       "      <td>24.698647</td>\n",
       "      <td>3.000000</td>\n",
       "    </tr>\n",
       "    <tr>\n",
       "      <th>75%</th>\n",
       "      <td>66.000000</td>\n",
       "      <td>177.353596</td>\n",
       "      <td>81.133746</td>\n",
       "      <td>28.732132</td>\n",
       "      <td>4.000000</td>\n",
       "    </tr>\n",
       "    <tr>\n",
       "      <th>max</th>\n",
       "      <td>79.000000</td>\n",
       "      <td>201.419670</td>\n",
       "      <td>118.907366</td>\n",
       "      <td>50.791898</td>\n",
       "      <td>4.000000</td>\n",
       "    </tr>\n",
       "  </tbody>\n",
       "</table>\n",
       "</div>"
      ],
      "text/plain": [
       "               Age       Height       Weight          BMI  \\\n",
       "count  1000.000000  1000.000000  1000.000000  1000.000000   \n",
       "mean     49.857000   170.052417    71.205769    24.888317   \n",
       "std      18.114267    10.309971    15.509849     6.193912   \n",
       "min      18.000000   136.115719    26.065730     8.470572   \n",
       "25%      35.000000   163.514205    61.129629    20.918068   \n",
       "50%      50.000000   169.801665    71.929072    24.698647   \n",
       "75%      66.000000   177.353596    81.133746    28.732132   \n",
       "max      79.000000   201.419670   118.907366    50.791898   \n",
       "\n",
       "       PhysicalActivityLevel  \n",
       "count            1000.000000  \n",
       "mean                2.534000  \n",
       "std                 1.116284  \n",
       "min                 1.000000  \n",
       "25%                 2.000000  \n",
       "50%                 3.000000  \n",
       "75%                 4.000000  \n",
       "max                 4.000000  "
      ]
     },
     "execution_count": 12,
     "metadata": {},
     "output_type": "execute_result"
    }
   ],
   "source": [
    "df.describe()"
   ]
  },
  {
   "cell_type": "code",
   "execution_count": 60,
   "metadata": {},
   "outputs": [
    {
     "data": {
      "text/plain": [
       "0      False\n",
       "1      False\n",
       "2      False\n",
       "3      False\n",
       "4      False\n",
       "       ...  \n",
       "995    False\n",
       "996    False\n",
       "997    False\n",
       "998    False\n",
       "999    False\n",
       "Length: 1000, dtype: bool"
      ]
     },
     "execution_count": 60,
     "metadata": {},
     "output_type": "execute_result"
    }
   ],
   "source": [
    "df.duplicated()"
   ]
  },
  {
   "cell_type": "code",
   "execution_count": 63,
   "metadata": {},
   "outputs": [
    {
     "name": "stdout",
     "output_type": "stream",
     "text": [
      "                            Age    Height    Weight       BMI  \\\n",
      "Age                    1.000000  0.019647 -0.061400 -0.059971   \n",
      "Height                 0.019647  1.000000  0.016033 -0.477091   \n",
      "Weight                -0.061400  0.016033  1.000000  0.861438   \n",
      "BMI                   -0.059971 -0.477091  0.861438  1.000000   \n",
      "PhysicalActivityLevel -0.022308  0.030380  0.063406  0.038020   \n",
      "\n",
      "                       PhysicalActivityLevel  \n",
      "Age                                -0.022308  \n",
      "Height                              0.030380  \n",
      "Weight                              0.063406  \n",
      "BMI                                 0.038020  \n",
      "PhysicalActivityLevel               1.000000  \n"
     ]
    },
    {
     "data": {
      "image/png": "[encoded data removed]",
      "text/plain": [
       "<Figure size 640x480 with 2 Axes>"
      ]
     },
     "metadata": {},
     "output_type": "display_data"
    }
   ],
   "source": [
    "corr = df.corr(numeric_only=True)\n",
    "\n",
    "# Afficher la matrice\n",
    "print(corr)\n",
    "\n",
    "# Visualiser avec un heatmap\n",
    "sns.heatmap(corr, annot=True, cmap=\"coolwarm\")\n",
    "plt.show()"
   ]
  },
  {
   "cell_type": "markdown",
   "metadata": {
    "id": "DDYcr8WLytfh"
   },
   "source": [
    "### **Part 2**"
   ]
  },
  {
   "cell_type": "markdown",
   "metadata": {
    "id": "r6cFi40t-1cN"
   },
   "source": [
    "#### Q2 : What kind of learning do you need to extract knowledge?"
   ]
  },
  {
   "cell_type": "markdown",
   "metadata": {
    "id": "1KOugZ9YDX60"
   },
   "source": [
    "Answer : supirvised learning "
   ]
  },
  {
   "cell_type": "markdown",
   "metadata": {
    "id": "D65veQsnCeNL"
   },
   "source": [
    "Q3 : Which task of the selected type of learning do you need to perform to extract knowledge?"
   ]
  },
  {
   "cell_type": "markdown",
   "metadata": {
    "id": "1o-Kou_QDa5b"
   },
   "source": [
    "Answer : classification"
   ]
  },
  {
   "cell_type": "markdown",
   "metadata": {
    "id": "ZHyx3vpDEBc4"
   },
   "source": [
    "Q4 : Define and comment on the evaluation metrics you need to select the best model. Justify your answer rigorously with examples."
   ]
  },
  {
   "cell_type": "markdown",
   "metadata": {
    "id": "KUxHKu09EzsJ"
   },
   "source": [
    "Answer : "
   ]
  },
  {
   "cell_type": "markdown",
   "metadata": {
    "id": "YiXcsk9YE59W"
   },
   "source": [
    "Q5 : According to the defined problem, what is the variable of interest?"
   ]
  },
  {
   "cell_type": "markdown",
   "metadata": {
    "id": "ApzTwh37FUt8"
   },
   "source": [
    "Answer : ...."
   ]
  },
  {
   "cell_type": "markdown",
   "metadata": {
    "id": "8JgWUmVmFWaG"
   },
   "source": [
    "Q6 : Still in this context, what is the explanatory variable?"
   ]
  },
  {
   "cell_type": "markdown",
   "metadata": {
    "id": "QEgNzy-DF89z"
   },
   "source": [
    "Answer : ...."
   ]
  },
  {
   "cell_type": "markdown",
   "metadata": {
    "id": "mS2NcQ-ta8qz"
   },
   "source": [
    "## **Part3**"
   ]
  },
  {
   "cell_type": "markdown",
   "metadata": {
    "id": "gbsw1KK2b-pQ"
   },
   "source": [
    "Q7 : Since computers cannot interpret categorical variables directly, it is necessary to preprocess the data to make it machine-readable. Do not hesitate to perform further data processing (e.g., handling missing values, removing irrelevant variables, etc.)."
   ]
  },
  {
   "cell_type": "markdown",
   "metadata": {
    "id": "PeHWTqf5cFKE"
   },
   "source": [
    "Answer : ...."
   ]
  },
  {
   "cell_type": "markdown",
   "metadata": {
    "id": "cVU-ta5WKqSA"
   },
   "source": [
    "## **Part 4**"
   ]
  },
  {
   "cell_type": "markdown",
   "metadata": {
    "id": "SYZQmlhsKuiW"
   },
   "source": [
    "One problem we encountered during the learning process is the issue of generalizability. It is a phenomenon where the model overlearns, including the noise in the data, which limits its ability to perform well on unseen data.\n",
    "\n",
    "That is why, in order to perform good modelling, it is essential to keep a portion of the data aside to evaluate the model after training. This helps give an idea of how well the training actually worked.\n",
    "\n",
    "![image.png](https://miro.medium.com/1*0mYlQihIDkCziGeYO-ePCQ.png)\n",
    "\n",
    "Typical splits are 60% for training and 40% for testing or 80/20."
   ]
  },
  {
   "cell_type": "markdown",
   "metadata": {
    "id": "p5kxi8ORPjGx"
   },
   "source": [
    "Q8: Split the overall dataset into a training set and a test set"
   ]
  },
  {
   "cell_type": "code",
   "execution_count": 24,
   "metadata": {
    "id": "B4nBsYNBPuqv"
   },
   "outputs": [],
   "source": [
    "from sklearn.model_selection import train_test_split\n",
    "\n",
    "X_train, X_test, y_train, y_test = \n"
   ]
  },
  {
   "cell_type": "code",
   "execution_count": 28,
   "metadata": {},
   "outputs": [],
   "source": [
    "y=df['ObesityCategory']\n",
    "x=df.drop('ObesityCategory',axis=1)"
   ]
  },
  {
   "cell_type": "code",
   "execution_count": 34,
   "metadata": {},
   "outputs": [
    {
     "data": {
      "text/html": [
       "<div>\n",
       "<style scoped>\n",
       "    .dataframe tbody tr th:only-of-type {\n",
       "        vertical-align: middle;\n",
       "    }\n",
       "\n",
       "    .dataframe tbody tr th {\n",
       "        vertical-align: top;\n",
       "    }\n",
       "\n",
       "    .dataframe thead th {\n",
       "        text-align: right;\n",
       "    }\n",
       "</style>\n",
       "<table border=\"1\" class=\"dataframe\">\n",
       "  <thead>\n",
       "    <tr style=\"text-align: right;\">\n",
       "      <th></th>\n",
       "      <th>Age</th>\n",
       "      <th>Gender</th>\n",
       "      <th>Height</th>\n",
       "      <th>Weight</th>\n",
       "      <th>BMI</th>\n",
       "      <th>PhysicalActivityLevel</th>\n",
       "      <th>ObesityCategory</th>\n",
       "    </tr>\n",
       "  </thead>\n",
       "  <tbody>\n",
       "    <tr>\n",
       "      <th>0</th>\n",
       "      <td>56</td>\n",
       "      <td>Male</td>\n",
       "      <td>173.575262</td>\n",
       "      <td>71.982051</td>\n",
       "      <td>23.891783</td>\n",
       "      <td>4</td>\n",
       "      <td>Normal weight</td>\n",
       "    </tr>\n",
       "    <tr>\n",
       "      <th>1</th>\n",
       "      <td>69</td>\n",
       "      <td>Male</td>\n",
       "      <td>164.127306</td>\n",
       "      <td>89.959256</td>\n",
       "      <td>33.395209</td>\n",
       "      <td>2</td>\n",
       "      <td>Obese</td>\n",
       "    </tr>\n",
       "    <tr>\n",
       "      <th>2</th>\n",
       "      <td>46</td>\n",
       "      <td>Female</td>\n",
       "      <td>168.072202</td>\n",
       "      <td>72.930629</td>\n",
       "      <td>25.817737</td>\n",
       "      <td>4</td>\n",
       "      <td>Overweight</td>\n",
       "    </tr>\n",
       "    <tr>\n",
       "      <th>3</th>\n",
       "      <td>32</td>\n",
       "      <td>Male</td>\n",
       "      <td>168.459633</td>\n",
       "      <td>84.886912</td>\n",
       "      <td>29.912247</td>\n",
       "      <td>3</td>\n",
       "      <td>Overweight</td>\n",
       "    </tr>\n",
       "    <tr>\n",
       "      <th>4</th>\n",
       "      <td>60</td>\n",
       "      <td>Male</td>\n",
       "      <td>183.568568</td>\n",
       "      <td>69.038945</td>\n",
       "      <td>20.487903</td>\n",
       "      <td>3</td>\n",
       "      <td>Normal weight</td>\n",
       "    </tr>\n",
       "    <tr>\n",
       "      <th>...</th>\n",
       "      <td>...</td>\n",
       "      <td>...</td>\n",
       "      <td>...</td>\n",
       "      <td>...</td>\n",
       "      <td>...</td>\n",
       "      <td>...</td>\n",
       "      <td>...</td>\n",
       "    </tr>\n",
       "    <tr>\n",
       "      <th>995</th>\n",
       "      <td>18</td>\n",
       "      <td>Male</td>\n",
       "      <td>155.588674</td>\n",
       "      <td>64.103182</td>\n",
       "      <td>26.480345</td>\n",
       "      <td>4</td>\n",
       "      <td>Overweight</td>\n",
       "    </tr>\n",
       "    <tr>\n",
       "      <th>996</th>\n",
       "      <td>35</td>\n",
       "      <td>Female</td>\n",
       "      <td>165.076490</td>\n",
       "      <td>97.639771</td>\n",
       "      <td>35.830783</td>\n",
       "      <td>1</td>\n",
       "      <td>Obese</td>\n",
       "    </tr>\n",
       "    <tr>\n",
       "      <th>997</th>\n",
       "      <td>49</td>\n",
       "      <td>Female</td>\n",
       "      <td>156.570956</td>\n",
       "      <td>78.804284</td>\n",
       "      <td>32.146036</td>\n",
       "      <td>1</td>\n",
       "      <td>Obese</td>\n",
       "    </tr>\n",
       "    <tr>\n",
       "      <th>998</th>\n",
       "      <td>64</td>\n",
       "      <td>Male</td>\n",
       "      <td>164.192222</td>\n",
       "      <td>57.978115</td>\n",
       "      <td>21.505965</td>\n",
       "      <td>4</td>\n",
       "      <td>Normal weight</td>\n",
       "    </tr>\n",
       "    <tr>\n",
       "      <th>999</th>\n",
       "      <td>66</td>\n",
       "      <td>Female</td>\n",
       "      <td>178.537130</td>\n",
       "      <td>74.962164</td>\n",
       "      <td>23.517168</td>\n",
       "      <td>1</td>\n",
       "      <td>Normal weight</td>\n",
       "    </tr>\n",
       "  </tbody>\n",
       "</table>\n",
       "<p>1000 rows × 7 columns</p>\n",
       "</div>"
      ],
      "text/plain": [
       "     Age  Gender      Height     Weight        BMI  PhysicalActivityLevel  \\\n",
       "0     56    Male  173.575262  71.982051  23.891783                      4   \n",
       "1     69    Male  164.127306  89.959256  33.395209                      2   \n",
       "2     46  Female  168.072202  72.930629  25.817737                      4   \n",
       "3     32    Male  168.459633  84.886912  29.912247                      3   \n",
       "4     60    Male  183.568568  69.038945  20.487903                      3   \n",
       "..   ...     ...         ...        ...        ...                    ...   \n",
       "995   18    Male  155.588674  64.103182  26.480345                      4   \n",
       "996   35  Female  165.076490  97.639771  35.830783                      1   \n",
       "997   49  Female  156.570956  78.804284  32.146036                      1   \n",
       "998   64    Male  164.192222  57.978115  21.505965                      4   \n",
       "999   66  Female  178.537130  74.962164  23.517168                      1   \n",
       "\n",
       "    ObesityCategory  \n",
       "0     Normal weight  \n",
       "1             Obese  \n",
       "2        Overweight  \n",
       "3        Overweight  \n",
       "4     Normal weight  \n",
       "..              ...  \n",
       "995      Overweight  \n",
       "996           Obese  \n",
       "997           Obese  \n",
       "998   Normal weight  \n",
       "999   Normal weight  \n",
       "\n",
       "[1000 rows x 7 columns]"
      ]
     },
     "execution_count": 34,
     "metadata": {},
     "output_type": "execute_result"
    }
   ],
   "source": [
    "df"
   ]
  },
  {
   "cell_type": "code",
   "execution_count": null,
   "metadata": {},
   "outputs": [],
   "source": []
  },
  {
   "cell_type": "code",
   "execution_count": 30,
   "metadata": {},
   "outputs": [
    {
     "data": {
      "text/plain": [
       "0      Normal weight\n",
       "1              Obese\n",
       "2         Overweight\n",
       "3         Overweight\n",
       "4      Normal weight\n",
       "           ...      \n",
       "995       Overweight\n",
       "996            Obese\n",
       "997            Obese\n",
       "998    Normal weight\n",
       "999    Normal weight\n",
       "Name: ObesityCategory, Length: 1000, dtype: object"
      ]
     },
     "execution_count": 30,
     "metadata": {},
     "output_type": "execute_result"
    }
   ],
   "source": [
    "y"
   ]
  },
  {
   "cell_type": "code",
   "execution_count": 32,
   "metadata": {},
   "outputs": [
    {
     "data": {
      "text/html": [
       "<div>\n",
       "<style scoped>\n",
       "    .dataframe tbody tr th:only-of-type {\n",
       "        vertical-align: middle;\n",
       "    }\n",
       "\n",
       "    .dataframe tbody tr th {\n",
       "        vertical-align: top;\n",
       "    }\n",
       "\n",
       "    .dataframe thead th {\n",
       "        text-align: right;\n",
       "    }\n",
       "</style>\n",
       "<table border=\"1\" class=\"dataframe\">\n",
       "  <thead>\n",
       "    <tr style=\"text-align: right;\">\n",
       "      <th></th>\n",
       "      <th>Age</th>\n",
       "      <th>Gender</th>\n",
       "      <th>Height</th>\n",
       "      <th>Weight</th>\n",
       "      <th>BMI</th>\n",
       "      <th>PhysicalActivityLevel</th>\n",
       "    </tr>\n",
       "  </thead>\n",
       "  <tbody>\n",
       "    <tr>\n",
       "      <th>0</th>\n",
       "      <td>56</td>\n",
       "      <td>Male</td>\n",
       "      <td>173.575262</td>\n",
       "      <td>71.982051</td>\n",
       "      <td>23.891783</td>\n",
       "      <td>4</td>\n",
       "    </tr>\n",
       "    <tr>\n",
       "      <th>1</th>\n",
       "      <td>69</td>\n",
       "      <td>Male</td>\n",
       "      <td>164.127306</td>\n",
       "      <td>89.959256</td>\n",
       "      <td>33.395209</td>\n",
       "      <td>2</td>\n",
       "    </tr>\n",
       "    <tr>\n",
       "      <th>2</th>\n",
       "      <td>46</td>\n",
       "      <td>Female</td>\n",
       "      <td>168.072202</td>\n",
       "      <td>72.930629</td>\n",
       "      <td>25.817737</td>\n",
       "      <td>4</td>\n",
       "    </tr>\n",
       "    <tr>\n",
       "      <th>3</th>\n",
       "      <td>32</td>\n",
       "      <td>Male</td>\n",
       "      <td>168.459633</td>\n",
       "      <td>84.886912</td>\n",
       "      <td>29.912247</td>\n",
       "      <td>3</td>\n",
       "    </tr>\n",
       "    <tr>\n",
       "      <th>4</th>\n",
       "      <td>60</td>\n",
       "      <td>Male</td>\n",
       "      <td>183.568568</td>\n",
       "      <td>69.038945</td>\n",
       "      <td>20.487903</td>\n",
       "      <td>3</td>\n",
       "    </tr>\n",
       "    <tr>\n",
       "      <th>...</th>\n",
       "      <td>...</td>\n",
       "      <td>...</td>\n",
       "      <td>...</td>\n",
       "      <td>...</td>\n",
       "      <td>...</td>\n",
       "      <td>...</td>\n",
       "    </tr>\n",
       "    <tr>\n",
       "      <th>995</th>\n",
       "      <td>18</td>\n",
       "      <td>Male</td>\n",
       "      <td>155.588674</td>\n",
       "      <td>64.103182</td>\n",
       "      <td>26.480345</td>\n",
       "      <td>4</td>\n",
       "    </tr>\n",
       "    <tr>\n",
       "      <th>996</th>\n",
       "      <td>35</td>\n",
       "      <td>Female</td>\n",
       "      <td>165.076490</td>\n",
       "      <td>97.639771</td>\n",
       "      <td>35.830783</td>\n",
       "      <td>1</td>\n",
       "    </tr>\n",
       "    <tr>\n",
       "      <th>997</th>\n",
       "      <td>49</td>\n",
       "      <td>Female</td>\n",
       "      <td>156.570956</td>\n",
       "      <td>78.804284</td>\n",
       "      <td>32.146036</td>\n",
       "      <td>1</td>\n",
       "    </tr>\n",
       "    <tr>\n",
       "      <th>998</th>\n",
       "      <td>64</td>\n",
       "      <td>Male</td>\n",
       "      <td>164.192222</td>\n",
       "      <td>57.978115</td>\n",
       "      <td>21.505965</td>\n",
       "      <td>4</td>\n",
       "    </tr>\n",
       "    <tr>\n",
       "      <th>999</th>\n",
       "      <td>66</td>\n",
       "      <td>Female</td>\n",
       "      <td>178.537130</td>\n",
       "      <td>74.962164</td>\n",
       "      <td>23.517168</td>\n",
       "      <td>1</td>\n",
       "    </tr>\n",
       "  </tbody>\n",
       "</table>\n",
       "<p>1000 rows × 6 columns</p>\n",
       "</div>"
      ],
      "text/plain": [
       "     Age  Gender      Height     Weight        BMI  PhysicalActivityLevel\n",
       "0     56    Male  173.575262  71.982051  23.891783                      4\n",
       "1     69    Male  164.127306  89.959256  33.395209                      2\n",
       "2     46  Female  168.072202  72.930629  25.817737                      4\n",
       "3     32    Male  168.459633  84.886912  29.912247                      3\n",
       "4     60    Male  183.568568  69.038945  20.487903                      3\n",
       "..   ...     ...         ...        ...        ...                    ...\n",
       "995   18    Male  155.588674  64.103182  26.480345                      4\n",
       "996   35  Female  165.076490  97.639771  35.830783                      1\n",
       "997   49  Female  156.570956  78.804284  32.146036                      1\n",
       "998   64    Male  164.192222  57.978115  21.505965                      4\n",
       "999   66  Female  178.537130  74.962164  23.517168                      1\n",
       "\n",
       "[1000 rows x 6 columns]"
      ]
     },
     "execution_count": 32,
     "metadata": {},
     "output_type": "execute_result"
    }
   ],
   "source": [
    "x"
   ]
  },
  {
   "cell_type": "code",
   "execution_count": null,
   "metadata": {
    "id": "mAzo2Db9Px4r"
   },
   "outputs": [],
   "source": [
    "X_train.shape, y_train.shape, X_test.shape, y_test.shape"
   ]
  },
  {
   "cell_type": "markdown",
   "metadata": {
    "id": "Otu_ciiGHjBd"
   },
   "source": [
    "## **Part 5**"
   ]
  },
  {
   "cell_type": "markdown",
   "metadata": {
    "id": "BaUJntKG-e30"
   },
   "source": [
    "#### Q9 : Build a decision tree model using Scikit-learn. Keep the default hyperparameters of the chosen algorithm. Specify which decision tree algorithm was used.\n",
    "See the documentation here: https://scikit-learn.org/."
   ]
  },
  {
   "cell_type": "code",
   "execution_count": null,
   "metadata": {
    "id": "g9bpBzxBT1MY"
   },
   "outputs": [],
   "source": [
    "model1 ="
   ]
  },
  {
   "cell_type": "markdown",
   "metadata": {
    "id": "eSDbedDO9krc"
   },
   "source": [
    "#### Q10 : Use the test set to evaluate how well your model generalizes to unseen data. Provide a clear explanation of all the evaluation metrics used."
   ]
  },
  {
   "cell_type": "markdown",
   "metadata": {
    "id": "5rRHuRrqVXwS"
   },
   "source": [
    "Answer : ...."
   ]
  },
  {
   "cell_type": "markdown",
   "metadata": {
    "id": "UZtJF-T0VeQx"
   },
   "source": [
    "## **Part 6**"
   ]
  },
  {
   "cell_type": "markdown",
   "metadata": {
    "id": "Mj6Qk7-RCJ-l"
   },
   "source": [
    "Q11 : Using the same algorithm, propose an alternative criterion for selecting the root node."
   ]
  },
  {
   "cell_type": "code",
   "execution_count": null,
   "metadata": {
    "id": "qnqQWYcrXmhp"
   },
   "outputs": [],
   "source": [
    "model2 ="
   ]
  },
  {
   "cell_type": "markdown",
   "metadata": {
    "id": "-wTMWY9vXqy1"
   },
   "source": [
    "Q12 : Use the test set to evaluate how well your new model generalizes to unseen data."
   ]
  },
  {
   "cell_type": "markdown",
   "metadata": {
    "id": "dS1_Idh7X1_Z"
   },
   "source": [
    "Answer : ...."
   ]
  },
  {
   "cell_type": "markdown",
   "metadata": {
    "id": "IPGkoAil-arM"
   },
   "source": [
    "### **Part 7**"
   ]
  },
  {
   "cell_type": "markdown",
   "metadata": {
    "id": "T-E_4KEjYOtZ"
   },
   "source": [
    "Q13 : Display the decision tree for both Model 1 and Model 2."
   ]
  },
  {
   "cell_type": "markdown",
   "metadata": {
    "id": "uuDttfm0ZBUS"
   },
   "source": [
    "##### For model1"
   ]
  },
  {
   "cell_type": "code",
   "execution_count": null,
   "metadata": {
    "id": "yt2VYGvV-c5d"
   },
   "outputs": [],
   "source": [
    "import sys\n",
    "!{sys.executable} -m pip install graphviz\n",
    "from graphviz import Source\n",
    "\n",
    "from IPython.display import display, SVG\n",
    "from sklearn.tree import export_graphviz"
   ]
  },
  {
   "cell_type": "code",
   "execution_count": null,
   "metadata": {
    "id": "BeyrhcW0YZK2"
   },
   "outputs": [],
   "source": [
    "graph = Source(export_graphviz(...., out_file=None, feature_names=X.columns,\n",
    "                               class_names=[....], filled = True, rounded=True))"
   ]
  },
  {
   "cell_type": "code",
   "execution_count": null,
   "metadata": {
    "id": "wQCzrEgBYh6S"
   },
   "outputs": [],
   "source": [
    "# The following requires graphviz on your computer\n",
    "display(SVG(graph.pipe(format='svg')))"
   ]
  },
  {
   "cell_type": "code",
   "execution_count": null,
   "metadata": {
    "id": "h-bcILW-Y83B"
   },
   "outputs": [],
   "source": [
    "if colab:\n",
    "    import cv2\n",
    "    from google.colab.patches import cv2_imshow\n",
    "    !wget https://raw.githubusercontent.com/alu042/DAT158-2022/master/notebooks/assets/decision_tree_diabetes.png\n",
    "    img = cv2.imread(\"decision_tree_diabetes.png\", cv2.IMREAD_UNCHANGED)\n",
    "    cv2_imshow(img)"
   ]
  },
  {
   "cell_type": "code",
   "execution_count": null,
   "metadata": {
    "id": "ott7YJgQY-8e"
   },
   "outputs": [],
   "source": [
    "if not colab:\n",
    "    from IPython.display import Image, display\n",
    "    display(Image(\"https://raw.githubusercontent.com/alu042/DAT158-2022/master/notebooks/assets/decision_tree_diabetes.png\", width='90%'))"
   ]
  },
  {
   "cell_type": "markdown",
   "metadata": {
    "id": "hFVCHNuQZFl2"
   },
   "source": [
    "##### For model2"
   ]
  },
  {
   "cell_type": "markdown",
   "metadata": {
    "id": "gVPS66rCZKMq"
   },
   "source": [
    "Answer : ...."
   ]
  },
  {
   "cell_type": "markdown",
   "metadata": {
    "id": "GPo1DvCtZWTG"
   },
   "source": [
    "Q14 : Explain which one is more interpretable. Give your reasons."
   ]
  },
  {
   "cell_type": "markdown",
   "metadata": {
    "id": "e8t4cMs3Z3Rq"
   },
   "source": [
    "# **Section 2**"
   ]
  },
  {
   "cell_type": "markdown",
   "metadata": {
    "id": "kH846WoMrxEl"
   },
   "source": [
    "Now you will test one of the algorithms used to construct a decision tree! In this section, we will see how to perform this from scratch.\n",
    "\n",
    "Therefore, due to the complexity involved in the construction, we will use another binary dataset available in the same folder under the name obesity_binary."
   ]
  },
  {
   "cell_type": "markdown",
   "metadata": {
    "id": "tmy_-mptsO0b"
   },
   "source": [
    "#### *Construct a decision tree using the ID3 algorithm based on information gain.*"
   ]
  },
  {
   "cell_type": "markdown",
   "metadata": {
    "id": "qX80Y0BRsT37"
   },
   "source": [
    "**Information Gain**\n",
    "\n",
    "Information Gain measures the reduction in entropy about the target variable after splitting a dataset based on a particular feature.\n",
    "\n",
    "![image.png](https://spicerrobotboy.files.wordpress.com/2012/01/decision-tree-equations.png)\n"
   ]
  },
  {
   "cell_type": "markdown",
   "metadata": {
    "id": "aS1yxfwstdBY"
   },
   "source": [
    "Q15 : Load data"
   ]
  },
  {
   "cell_type": "markdown",
   "metadata": {
    "id": "uOU2_bSJvWip"
   },
   "source": [
    "Answer ..."
   ]
  },
  {
   "cell_type": "markdown",
   "metadata": {
    "id": "A7s0F9HKvcS_"
   },
   "source": [
    "Q16 : Which attribute should be chosen for the root node?"
   ]
  },
  {
   "cell_type": "markdown",
   "metadata": {
    "id": "cYZ3Ur3VvYUs"
   },
   "source": [
    "Answer ..."
   ]
  },
  {
   "cell_type": "markdown",
   "metadata": {
    "id": "QhJoBJ-xvZ7e"
   },
   "source": [
    "Q17 : Write a function to build the tree and visualize the tree."
   ]
  },
  {
   "cell_type": "markdown",
   "metadata": {
    "id": "W_70dQKewTw8"
   },
   "source": [
    "Answer ..."
   ]
  },
  {
   "cell_type": "markdown",
   "metadata": {
    "id": "lx87FUfUvv5d"
   },
   "source": [
    "Q18 : What is the maximum depth of the tree?"
   ]
  },
  {
   "cell_type": "markdown",
   "metadata": {
    "id": "hA3tvtP_wUcg"
   },
   "source": [
    "Answer ..."
   ]
  },
  {
   "cell_type": "markdown",
   "metadata": {
    "id": "mIofc_K1voxc"
   },
   "source": [
    "Q19 : How many leaf nodes do you have?"
   ]
  },
  {
   "cell_type": "markdown",
   "metadata": {
    "id": "Yc-sCXkhwVG4"
   },
   "source": [
    "Answer ..."
   ]
  },
  {
   "cell_type": "markdown",
   "metadata": {
    "id": "KsBT8qeDwFT2"
   },
   "source": [
    "# **section 3**"
   ]
  },
  {
   "cell_type": "markdown",
   "metadata": {
    "id": "J18KhpLRwKvW"
   },
   "source": [
    "Q20: Repeat the exercise (section 2) for the C4.5 algorithm."
   ]
  },
  {
   "cell_type": "code",
   "execution_count": null,
   "metadata": {},
   "outputs": [],
   "source": []
  }
 ],
 "metadata": {
  "colab": {
   "provenance": []
  },
  "kernelspec": {
   "display_name": "Python [conda env:base] *",
   "language": "python",
   "name": "conda-base-py"
  },
  "language_info": {
   "codemirror_mode": {
    "name": "ipython",
    "version": 3
   },
   "file_extension": ".py",
   "mimetype": "text/x-python",
   "name": "python",
   "nbconvert_exporter": "python",
   "pygments_lexer": "ipython3",
   "version": "3.12.7"
  }
 },
 "nbformat": 4,
 "nbformat_minor": 4
}
