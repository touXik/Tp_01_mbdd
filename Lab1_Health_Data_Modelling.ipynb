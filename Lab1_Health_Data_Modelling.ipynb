{
 "cells": [
  {
   "cell_type": "markdown",
   "metadata": {
    "id": "-Tnj-O3ytJPc"
   },
   "source": [
    "# **M2-INASYS / OPTIMSYS Course 1: Assignment**\n"
   ]
  },
  {
   "cell_type": "markdown",
   "metadata": {
    "id": "1QI-gszCuXyu"
   },
   "source": [
    "## **Topic : Obesity modelling**"
   ]
  },
  {
   "cell_type": "markdown",
   "metadata": {
    "id": "cvRY2MsHuVMI"
   },
   "source": [
    "Overweight and obesity are considered by the WHO as serious health concerns. They pose health risks to all individuals living with these conditions. The WHO defines obesity as an abnormal or excessive accumulation of body fat that significantly impacts both a patient’s daily life and overall health.\n",
    "\n",
    "Faced with this serious health issue, imagine you have been tasked with modeling the problem. The goal is to build a predictive model using historical data about people suffering from obesity, in order to guide public health measures. Based on specific characteristics, the model would help determine an individual’s level or risk of obesity.\n",
    "\n",
    "![image.png](https://encrypted-tbn0.gstatic.com/images?q=tbn:ANd9GcQzA1xo7EZ1ZHwDutoxg7416XBcErk_P7f0Pg&s)\n",
    "\n",
    "\n",
    "As **SARA la Data**, go to https://github.com/EDJINEDJA/Health-Data-modelling.git to download historical information about people suffering from obesity in order to begin the modeling process. The data, located in the **lab1** folder and in CSV format (Comma-Separated Values), is now your property. Enjoy!\n",
    "\n",
    "\n",
    "\n",
    "*!!!!!!* **The expected files are: the report and the code.**"
   ]
  },
  {
   "cell_type": "markdown",
   "metadata": {
    "id": "Jt2FR_fqZyZD"
   },
   "source": [
    "# **Section 1**"
   ]
  },
  {
   "cell_type": "markdown",
   "metadata": {
    "id": "DA6gHb-Jyn6s"
   },
   "source": [
    "### **Part 1**"
   ]
  },
  {
   "cell_type": "markdown",
   "metadata": {
    "id": "d7GGu9jgyPkt"
   },
   "source": [
    "#### Q1: Use both your clinical knowledge and data analysis background to describe and present the data provided to you."
   ]
  },
  {
   "cell_type": "markdown",
   "metadata": {
    "id": "yELOZuksDhHj"
   },
   "source": [
    "Answer : "
   ]
  },
  {
   "cell_type": "code",
   "execution_count": 8,
   "metadata": {},
   "outputs": [],
   "source": [
    "#importation des biblio\n",
    "import pandas as pd \n",
    "import numpy as np \n",
    "import matplotlib.pyplot as plt\n",
    "import seaborn as sns"
   ]
  },
  {
   "cell_type": "code",
   "execution_count": 10,
   "metadata": {},
   "outputs": [
    {
     "name": "stdout",
     "output_type": "stream",
     "text": [
      "(8, 7)\n"
     ]
    },
    {
     "data": {
      "text/html": [
       "<div>\n",
       "<style scoped>\n",
       "    .dataframe tbody tr th:only-of-type {\n",
       "        vertical-align: middle;\n",
       "    }\n",
       "\n",
       "    .dataframe tbody tr th {\n",
       "        vertical-align: top;\n",
       "    }\n",
       "\n",
       "    .dataframe thead th {\n",
       "        text-align: right;\n",
       "    }\n",
       "</style>\n",
       "<table border=\"1\" class=\"dataframe\">\n",
       "  <thead>\n",
       "    <tr style=\"text-align: right;\">\n",
       "      <th></th>\n",
       "      <th>Age</th>\n",
       "      <th>Gender</th>\n",
       "      <th>Height</th>\n",
       "      <th>Weight</th>\n",
       "      <th>BMI</th>\n",
       "      <th>PhysicalActivityLevel</th>\n",
       "      <th>ObesityCategory</th>\n",
       "    </tr>\n",
       "  </thead>\n",
       "  <tbody>\n",
       "    <tr>\n",
       "      <th>0</th>\n",
       "      <td>0</td>\n",
       "      <td>0</td>\n",
       "      <td>1</td>\n",
       "      <td>0</td>\n",
       "      <td>0</td>\n",
       "      <td>1</td>\n",
       "      <td>0</td>\n",
       "    </tr>\n",
       "    <tr>\n",
       "      <th>1</th>\n",
       "      <td>1</td>\n",
       "      <td>1</td>\n",
       "      <td>0</td>\n",
       "      <td>1</td>\n",
       "      <td>1</td>\n",
       "      <td>0</td>\n",
       "      <td>1</td>\n",
       "    </tr>\n",
       "    <tr>\n",
       "      <th>2</th>\n",
       "      <td>0</td>\n",
       "      <td>1</td>\n",
       "      <td>1</td>\n",
       "      <td>1</td>\n",
       "      <td>1</td>\n",
       "      <td>0</td>\n",
       "      <td>1</td>\n",
       "    </tr>\n",
       "    <tr>\n",
       "      <th>3</th>\n",
       "      <td>1</td>\n",
       "      <td>0</td>\n",
       "      <td>1</td>\n",
       "      <td>1</td>\n",
       "      <td>1</td>\n",
       "      <td>0</td>\n",
       "      <td>1</td>\n",
       "    </tr>\n",
       "    <tr>\n",
       "      <th>4</th>\n",
       "      <td>1</td>\n",
       "      <td>1</td>\n",
       "      <td>0</td>\n",
       "      <td>0</td>\n",
       "      <td>0</td>\n",
       "      <td>1</td>\n",
       "      <td>0</td>\n",
       "    </tr>\n",
       "    <tr>\n",
       "      <th>5</th>\n",
       "      <td>0</td>\n",
       "      <td>0</td>\n",
       "      <td>0</td>\n",
       "      <td>1</td>\n",
       "      <td>1</td>\n",
       "      <td>1</td>\n",
       "      <td>1</td>\n",
       "    </tr>\n",
       "    <tr>\n",
       "      <th>6</th>\n",
       "      <td>0</td>\n",
       "      <td>1</td>\n",
       "      <td>1</td>\n",
       "      <td>0</td>\n",
       "      <td>0</td>\n",
       "      <td>1</td>\n",
       "      <td>0</td>\n",
       "    </tr>\n",
       "    <tr>\n",
       "      <th>7</th>\n",
       "      <td>1</td>\n",
       "      <td>0</td>\n",
       "      <td>0</td>\n",
       "      <td>1</td>\n",
       "      <td>1</td>\n",
       "      <td>0</td>\n",
       "      <td>1</td>\n",
       "    </tr>\n",
       "  </tbody>\n",
       "</table>\n",
       "</div>"
      ],
      "text/plain": [
       "   Age  Gender  Height  Weight  BMI  PhysicalActivityLevel  ObesityCategory\n",
       "0    0       0       1       0    0                      1                0\n",
       "1    1       1       0       1    1                      0                1\n",
       "2    0       1       1       1    1                      0                1\n",
       "3    1       0       1       1    1                      0                1\n",
       "4    1       1       0       0    0                      1                0\n",
       "5    0       0       0       1    1                      1                1\n",
       "6    0       1       1       0    0                      1                0\n",
       "7    1       0       0       1    1                      0                1"
      ]
     },
     "execution_count": 10,
     "metadata": {},
     "output_type": "execute_result"
    }
   ],
   "source": [
    "df_binary=pd.read_csv('Health-Data-modelling/lab1/obesity_binary.csv')\n",
    "print(df_binary.shape)\n",
    "df_binary"
   ]
  },
  {
   "cell_type": "markdown",
   "metadata": {},
   "source": [
    "###### obesity_data"
   ]
  },
  {
   "cell_type": "markdown",
   "metadata": {},
   "source": [
    "**variable target** : ObesityCategory ['Normal weight', 'Obese', 'Overweight', 'Underweight']\n",
    "\n",
    "**lignes et colonnes** : 1000, 7\n",
    "\n",
    "**variables** : Age , Gender, Height, Weight, BMI, PhysicalActivityLevel\n",
    "\n",
    "**types de variables** : qualitatives : 29%, quantitatives : 61%\n",
    "\n",
    "**Analyse des valeurs manquantes** : aucune valeure null"
   ]
  },
  {
   "cell_type": "code",
   "execution_count": 199,
   "metadata": {},
   "outputs": [
    {
     "name": "stdout",
     "output_type": "stream",
     "text": [
      "(1000, 7)\n"
     ]
    },
    {
     "data": {
      "text/html": [
       "<div>\n",
       "<style scoped>\n",
       "    .dataframe tbody tr th:only-of-type {\n",
       "        vertical-align: middle;\n",
       "    }\n",
       "\n",
       "    .dataframe tbody tr th {\n",
       "        vertical-align: top;\n",
       "    }\n",
       "\n",
       "    .dataframe thead th {\n",
       "        text-align: right;\n",
       "    }\n",
       "</style>\n",
       "<table border=\"1\" class=\"dataframe\">\n",
       "  <thead>\n",
       "    <tr style=\"text-align: right;\">\n",
       "      <th></th>\n",
       "      <th>Age</th>\n",
       "      <th>Gender</th>\n",
       "      <th>Height</th>\n",
       "      <th>Weight</th>\n",
       "      <th>BMI</th>\n",
       "      <th>PhysicalActivityLevel</th>\n",
       "      <th>ObesityCategory</th>\n",
       "    </tr>\n",
       "  </thead>\n",
       "  <tbody>\n",
       "    <tr>\n",
       "      <th>0</th>\n",
       "      <td>56</td>\n",
       "      <td>Male</td>\n",
       "      <td>173.575262</td>\n",
       "      <td>71.982051</td>\n",
       "      <td>23.891783</td>\n",
       "      <td>4</td>\n",
       "      <td>Normal weight</td>\n",
       "    </tr>\n",
       "    <tr>\n",
       "      <th>1</th>\n",
       "      <td>69</td>\n",
       "      <td>Male</td>\n",
       "      <td>164.127306</td>\n",
       "      <td>89.959256</td>\n",
       "      <td>33.395209</td>\n",
       "      <td>2</td>\n",
       "      <td>Obese</td>\n",
       "    </tr>\n",
       "    <tr>\n",
       "      <th>2</th>\n",
       "      <td>46</td>\n",
       "      <td>Female</td>\n",
       "      <td>168.072202</td>\n",
       "      <td>72.930629</td>\n",
       "      <td>25.817737</td>\n",
       "      <td>4</td>\n",
       "      <td>Overweight</td>\n",
       "    </tr>\n",
       "    <tr>\n",
       "      <th>3</th>\n",
       "      <td>32</td>\n",
       "      <td>Male</td>\n",
       "      <td>168.459633</td>\n",
       "      <td>84.886912</td>\n",
       "      <td>29.912247</td>\n",
       "      <td>3</td>\n",
       "      <td>Overweight</td>\n",
       "    </tr>\n",
       "    <tr>\n",
       "      <th>4</th>\n",
       "      <td>60</td>\n",
       "      <td>Male</td>\n",
       "      <td>183.568568</td>\n",
       "      <td>69.038945</td>\n",
       "      <td>20.487903</td>\n",
       "      <td>3</td>\n",
       "      <td>Normal weight</td>\n",
       "    </tr>\n",
       "  </tbody>\n",
       "</table>\n",
       "</div>"
      ],
      "text/plain": [
       "   Age  Gender      Height     Weight        BMI  PhysicalActivityLevel  \\\n",
       "0   56    Male  173.575262  71.982051  23.891783                      4   \n",
       "1   69    Male  164.127306  89.959256  33.395209                      2   \n",
       "2   46  Female  168.072202  72.930629  25.817737                      4   \n",
       "3   32    Male  168.459633  84.886912  29.912247                      3   \n",
       "4   60    Male  183.568568  69.038945  20.487903                      3   \n",
       "\n",
       "  ObesityCategory  \n",
       "0   Normal weight  \n",
       "1           Obese  \n",
       "2      Overweight  \n",
       "3      Overweight  \n",
       "4   Normal weight  "
      ]
     },
     "execution_count": 199,
     "metadata": {},
     "output_type": "execute_result"
    }
   ],
   "source": [
    "df=pd.read_csv('Health-Data-modelling/lab1/obesity_data.csv')\n",
    "print(df.shape)\n",
    "df.head()"
   ]
  },
  {
   "cell_type": "code",
   "execution_count": 14,
   "metadata": {},
   "outputs": [
    {
     "data": {
      "text/plain": [
       "array(['Normal weight', 'Obese', 'Overweight', 'Underweight'],\n",
       "      dtype=object)"
      ]
     },
     "execution_count": 14,
     "metadata": {},
     "output_type": "execute_result"
    }
   ],
   "source": [
    "df['ObesityCategory'].unique()"
   ]
  },
  {
   "cell_type": "code",
   "execution_count": 15,
   "metadata": {},
   "outputs": [
    {
     "name": "stdout",
     "output_type": "stream",
     "text": [
      "<class 'pandas.core.frame.DataFrame'>\n",
      "RangeIndex: 1000 entries, 0 to 999\n",
      "Data columns (total 7 columns):\n",
      " #   Column                 Non-Null Count  Dtype  \n",
      "---  ------                 --------------  -----  \n",
      " 0   Age                    1000 non-null   int64  \n",
      " 1   Gender                 1000 non-null   object \n",
      " 2   Height                 1000 non-null   float64\n",
      " 3   Weight                 1000 non-null   float64\n",
      " 4   BMI                    1000 non-null   float64\n",
      " 5   PhysicalActivityLevel  1000 non-null   int64  \n",
      " 6   ObesityCategory        1000 non-null   object \n",
      "dtypes: float64(3), int64(2), object(2)\n",
      "memory usage: 54.8+ KB\n"
     ]
    }
   ],
   "source": [
    "df.info()"
   ]
  },
  {
   "cell_type": "code",
   "execution_count": 16,
   "metadata": {},
   "outputs": [
    {
     "data": {
      "text/plain": [
       "<Axes: ylabel='proportion'>"
      ]
     },
     "execution_count": 16,
     "metadata": {},
     "output_type": "execute_result"
    },
    {
     "data": {
      "image/png": "[encoded data removed]",
      "text/plain": [
       "<Figure size 640x480 with 1 Axes>"
      ]
     },
     "metadata": {},
     "output_type": "display_data"
    }
   ],
   "source": [
    "df.dtypes.value_counts('%').plot.pie()"
   ]
  },
  {
   "cell_type": "code",
   "execution_count": 17,
   "metadata": {},
   "outputs": [
    {
     "data": {
      "text/plain": [
       "Age                      0\n",
       "Gender                   0\n",
       "Height                   0\n",
       "Weight                   0\n",
       "BMI                      0\n",
       "PhysicalActivityLevel    0\n",
       "ObesityCategory          0\n",
       "dtype: int64"
      ]
     },
     "execution_count": 17,
     "metadata": {},
     "output_type": "execute_result"
    }
   ],
   "source": [
    "df.isna().sum()"
   ]
  },
  {
   "cell_type": "code",
   "execution_count": 135,
   "metadata": {},
   "outputs": [
    {
     "data": {
      "text/plain": [
       "<Axes: >"
      ]
     },
     "execution_count": 135,
     "metadata": {},
     "output_type": "execute_result"
    },
    {
     "data": {
      "image/png": "[encoded data removed]",
      "text/plain": [
       "<Figure size 640x480 with 1 Axes>"
      ]
     },
     "metadata": {},
     "output_type": "display_data"
    }
   ],
   "source": [
    " sns.heatmap(df.isna(),cbar=False)"
   ]
  },
  {
   "cell_type": "code",
   "execution_count": 19,
   "metadata": {},
   "outputs": [
    {
     "data": {
      "text/html": [
       "<div>\n",
       "<style scoped>\n",
       "    .dataframe tbody tr th:only-of-type {\n",
       "        vertical-align: middle;\n",
       "    }\n",
       "\n",
       "    .dataframe tbody tr th {\n",
       "        vertical-align: top;\n",
       "    }\n",
       "\n",
       "    .dataframe thead th {\n",
       "        text-align: right;\n",
       "    }\n",
       "</style>\n",
       "<table border=\"1\" class=\"dataframe\">\n",
       "  <thead>\n",
       "    <tr style=\"text-align: right;\">\n",
       "      <th></th>\n",
       "      <th>Age</th>\n",
       "      <th>Height</th>\n",
       "      <th>Weight</th>\n",
       "      <th>BMI</th>\n",
       "      <th>PhysicalActivityLevel</th>\n",
       "    </tr>\n",
       "  </thead>\n",
       "  <tbody>\n",
       "    <tr>\n",
       "      <th>count</th>\n",
       "      <td>1000.000000</td>\n",
       "      <td>1000.000000</td>\n",
       "      <td>1000.000000</td>\n",
       "      <td>1000.000000</td>\n",
       "      <td>1000.000000</td>\n",
       "    </tr>\n",
       "    <tr>\n",
       "      <th>mean</th>\n",
       "      <td>49.857000</td>\n",
       "      <td>170.052417</td>\n",
       "      <td>71.205769</td>\n",
       "      <td>24.888317</td>\n",
       "      <td>2.534000</td>\n",
       "    </tr>\n",
       "    <tr>\n",
       "      <th>std</th>\n",
       "      <td>18.114267</td>\n",
       "      <td>10.309971</td>\n",
       "      <td>15.509849</td>\n",
       "      <td>6.193912</td>\n",
       "      <td>1.116284</td>\n",
       "    </tr>\n",
       "    <tr>\n",
       "      <th>min</th>\n",
       "      <td>18.000000</td>\n",
       "      <td>136.115719</td>\n",
       "      <td>26.065730</td>\n",
       "      <td>8.470572</td>\n",
       "      <td>1.000000</td>\n",
       "    </tr>\n",
       "    <tr>\n",
       "      <th>25%</th>\n",
       "      <td>35.000000</td>\n",
       "      <td>163.514205</td>\n",
       "      <td>61.129629</td>\n",
       "      <td>20.918068</td>\n",
       "      <td>2.000000</td>\n",
       "    </tr>\n",
       "    <tr>\n",
       "      <th>50%</th>\n",
       "      <td>50.000000</td>\n",
       "      <td>169.801665</td>\n",
       "      <td>71.929072</td>\n",
       "      <td>24.698647</td>\n",
       "      <td>3.000000</td>\n",
       "    </tr>\n",
       "    <tr>\n",
       "      <th>75%</th>\n",
       "      <td>66.000000</td>\n",
       "      <td>177.353596</td>\n",
       "      <td>81.133746</td>\n",
       "      <td>28.732132</td>\n",
       "      <td>4.000000</td>\n",
       "    </tr>\n",
       "    <tr>\n",
       "      <th>max</th>\n",
       "      <td>79.000000</td>\n",
       "      <td>201.419670</td>\n",
       "      <td>118.907366</td>\n",
       "      <td>50.791898</td>\n",
       "      <td>4.000000</td>\n",
       "    </tr>\n",
       "  </tbody>\n",
       "</table>\n",
       "</div>"
      ],
      "text/plain": [
       "               Age       Height       Weight          BMI  \\\n",
       "count  1000.000000  1000.000000  1000.000000  1000.000000   \n",
       "mean     49.857000   170.052417    71.205769    24.888317   \n",
       "std      18.114267    10.309971    15.509849     6.193912   \n",
       "min      18.000000   136.115719    26.065730     8.470572   \n",
       "25%      35.000000   163.514205    61.129629    20.918068   \n",
       "50%      50.000000   169.801665    71.929072    24.698647   \n",
       "75%      66.000000   177.353596    81.133746    28.732132   \n",
       "max      79.000000   201.419670   118.907366    50.791898   \n",
       "\n",
       "       PhysicalActivityLevel  \n",
       "count            1000.000000  \n",
       "mean                2.534000  \n",
       "std                 1.116284  \n",
       "min                 1.000000  \n",
       "25%                 2.000000  \n",
       "50%                 3.000000  \n",
       "75%                 4.000000  \n",
       "max                 4.000000  "
      ]
     },
     "execution_count": 19,
     "metadata": {},
     "output_type": "execute_result"
    }
   ],
   "source": [
    "df.describe()"
   ]
  },
  {
   "cell_type": "code",
   "execution_count": 20,
   "metadata": {},
   "outputs": [
    {
     "data": {
      "text/plain": [
       "0      False\n",
       "1      False\n",
       "2      False\n",
       "3      False\n",
       "4      False\n",
       "       ...  \n",
       "995    False\n",
       "996    False\n",
       "997    False\n",
       "998    False\n",
       "999    False\n",
       "Length: 1000, dtype: bool"
      ]
     },
     "execution_count": 20,
     "metadata": {},
     "output_type": "execute_result"
    }
   ],
   "source": [
    "df.duplicated()"
   ]
  },
  {
   "cell_type": "markdown",
   "metadata": {
    "id": "DDYcr8WLytfh"
   },
   "source": [
    "### **Part 2**"
   ]
  },
  {
   "cell_type": "markdown",
   "metadata": {
    "id": "r6cFi40t-1cN"
   },
   "source": [
    " Q2 : What kind of learning do you need to extract knowledge?"
   ]
  },
  {
   "cell_type": "markdown",
   "metadata": {
    "id": "1KOugZ9YDX60"
   },
   "source": [
    "Answer : C’est un problème d’apprentissage supervisé ."
   ]
  },
  {
   "cell_type": "markdown",
   "metadata": {
    "id": "D65veQsnCeNL"
   },
   "source": [
    "Q3 : Which task of the selected type of learning do you need to perform to extract knowledge?"
   ]
  },
  {
   "cell_type": "markdown",
   "metadata": {
    "id": "1o-Kou_QDa5b"
   },
   "source": [
    "Answer :classification"
   ]
  },
  {
   "cell_type": "markdown",
   "metadata": {
    "id": "ZHyx3vpDEBc4"
   },
   "source": [
    "Q4 : Define and comment on the evaluation metrics you need to select the best model. Justify your answer rigorously with examples."
   ]
  },
  {
   "cell_type": "markdown",
   "metadata": {
    "id": "KUxHKu09EzsJ"
   },
   "source": [
    "Answer : \n",
    "\n",
    "Dans ce problème de classification multiclasse (Normal weight, Overweight, Obese, Underweight), l’accuracy donne une idée générale de la qualité du modèle, mais elle peut être trompeuse si une classe est dominante.\n",
    "\n",
    "Il est donc nécessaire d’utiliser d’autres métriques :\n",
    "\n",
    "Precision, Recall et F1-score par classe, afin d’évaluer la performance sur chaque catégorie.\n",
    "\n",
    "Le F1-score macro est particulièrement adapté, car il donne le même poids à toutes les classes, même les moins représentées.\n",
    "\n",
    "Enfin, la confusion matrix permet d’identifier quelles classes sont souvent confondues (par exemple entre Overweight et Obese).\n",
    "\n",
    "Ces métriques sont essentielles pour sélectionner le meilleur modèle car elles garantissent qu’il fonctionne correctement non seulement sur la majorité des individus, mais aussi sur les cas les plus critiques du point de vue de la santé publique."
   ]
  },
  {
   "cell_type": "markdown",
   "metadata": {
    "id": "YiXcsk9YE59W"
   },
   "source": [
    "Q5 : According to the defined problem, what is the variable of interest?"
   ]
  },
  {
   "cell_type": "markdown",
   "metadata": {
    "id": "ApzTwh37FUt8"
   },
   "source": [
    "Answer : ObesityCategory"
   ]
  },
  {
   "cell_type": "markdown",
   "metadata": {
    "id": "8JgWUmVmFWaG"
   },
   "source": [
    "Q6 : Still in this context, what is the explanatory variable?"
   ]
  },
  {
   "cell_type": "markdown",
   "metadata": {
    "id": "QEgNzy-DF89z"
   },
   "source": [
    "Answer : Age, Gender, Height, Weight, BMI, PhysicalActivityLevel"
   ]
  },
  {
   "cell_type": "markdown",
   "metadata": {
    "id": "mS2NcQ-ta8qz"
   },
   "source": [
    "## **Part3**"
   ]
  },
  {
   "cell_type": "markdown",
   "metadata": {
    "id": "gbsw1KK2b-pQ"
   },
   "source": [
    "Q7 : Since computers cannot interpret categorical variables directly, it is necessary to preprocess the data to make it machine-readable. Do not hesitate to perform further data processing (e.g., handling missing values, removing irrelevant variables, etc.)."
   ]
  },
  {
   "cell_type": "markdown",
   "metadata": {
    "id": "PeHWTqf5cFKE"
   },
   "source": [
    "Answer :\n",
    "\n",
    "**Encoder les variables catégorielles** : transformer les variables qualitatives (Gender, ObesityCategory) en valeurs numériques (par exemple, 0 pour Male, 1 pour Female)."
   ]
  },
  {
   "cell_type": "markdown",
   "metadata": {},
   "source": [
    "**1)Encodage**"
   ]
  },
  {
   "cell_type": "code",
   "execution_count": 201,
   "metadata": {},
   "outputs": [],
   "source": [
    "def encodage(df):\n",
    "    code = {\n",
    "        'Normal weight':0,\n",
    "        'Obese':1,\n",
    "        'Overweight':2,\n",
    "        'Underweight':3,\n",
    "        'Male':1,\n",
    "        'Female':0\n",
    "    }\n",
    "    \n",
    "    for col in df.select_dtypes('object').columns:\n",
    "        df[col] = df[col].map(code).astype(int)  # <- conversion en int\n",
    "    \n",
    "    return df"
   ]
  },
  {
   "cell_type": "code",
   "execution_count": 203,
   "metadata": {},
   "outputs": [
    {
     "data": {
      "text/html": [
       "<div>\n",
       "<style scoped>\n",
       "    .dataframe tbody tr th:only-of-type {\n",
       "        vertical-align: middle;\n",
       "    }\n",
       "\n",
       "    .dataframe tbody tr th {\n",
       "        vertical-align: top;\n",
       "    }\n",
       "\n",
       "    .dataframe thead th {\n",
       "        text-align: right;\n",
       "    }\n",
       "</style>\n",
       "<table border=\"1\" class=\"dataframe\">\n",
       "  <thead>\n",
       "    <tr style=\"text-align: right;\">\n",
       "      <th></th>\n",
       "      <th>Age</th>\n",
       "      <th>Gender</th>\n",
       "      <th>Height</th>\n",
       "      <th>Weight</th>\n",
       "      <th>BMI</th>\n",
       "      <th>PhysicalActivityLevel</th>\n",
       "      <th>ObesityCategory</th>\n",
       "    </tr>\n",
       "  </thead>\n",
       "  <tbody>\n",
       "    <tr>\n",
       "      <th>0</th>\n",
       "      <td>56</td>\n",
       "      <td>1</td>\n",
       "      <td>173.575262</td>\n",
       "      <td>71.982051</td>\n",
       "      <td>23.891783</td>\n",
       "      <td>4</td>\n",
       "      <td>0</td>\n",
       "    </tr>\n",
       "    <tr>\n",
       "      <th>1</th>\n",
       "      <td>69</td>\n",
       "      <td>1</td>\n",
       "      <td>164.127306</td>\n",
       "      <td>89.959256</td>\n",
       "      <td>33.395209</td>\n",
       "      <td>2</td>\n",
       "      <td>1</td>\n",
       "    </tr>\n",
       "    <tr>\n",
       "      <th>2</th>\n",
       "      <td>46</td>\n",
       "      <td>0</td>\n",
       "      <td>168.072202</td>\n",
       "      <td>72.930629</td>\n",
       "      <td>25.817737</td>\n",
       "      <td>4</td>\n",
       "      <td>2</td>\n",
       "    </tr>\n",
       "    <tr>\n",
       "      <th>3</th>\n",
       "      <td>32</td>\n",
       "      <td>1</td>\n",
       "      <td>168.459633</td>\n",
       "      <td>84.886912</td>\n",
       "      <td>29.912247</td>\n",
       "      <td>3</td>\n",
       "      <td>2</td>\n",
       "    </tr>\n",
       "    <tr>\n",
       "      <th>4</th>\n",
       "      <td>60</td>\n",
       "      <td>1</td>\n",
       "      <td>183.568568</td>\n",
       "      <td>69.038945</td>\n",
       "      <td>20.487903</td>\n",
       "      <td>3</td>\n",
       "      <td>0</td>\n",
       "    </tr>\n",
       "    <tr>\n",
       "      <th>...</th>\n",
       "      <td>...</td>\n",
       "      <td>...</td>\n",
       "      <td>...</td>\n",
       "      <td>...</td>\n",
       "      <td>...</td>\n",
       "      <td>...</td>\n",
       "      <td>...</td>\n",
       "    </tr>\n",
       "    <tr>\n",
       "      <th>995</th>\n",
       "      <td>18</td>\n",
       "      <td>1</td>\n",
       "      <td>155.588674</td>\n",
       "      <td>64.103182</td>\n",
       "      <td>26.480345</td>\n",
       "      <td>4</td>\n",
       "      <td>2</td>\n",
       "    </tr>\n",
       "    <tr>\n",
       "      <th>996</th>\n",
       "      <td>35</td>\n",
       "      <td>0</td>\n",
       "      <td>165.076490</td>\n",
       "      <td>97.639771</td>\n",
       "      <td>35.830783</td>\n",
       "      <td>1</td>\n",
       "      <td>1</td>\n",
       "    </tr>\n",
       "    <tr>\n",
       "      <th>997</th>\n",
       "      <td>49</td>\n",
       "      <td>0</td>\n",
       "      <td>156.570956</td>\n",
       "      <td>78.804284</td>\n",
       "      <td>32.146036</td>\n",
       "      <td>1</td>\n",
       "      <td>1</td>\n",
       "    </tr>\n",
       "    <tr>\n",
       "      <th>998</th>\n",
       "      <td>64</td>\n",
       "      <td>1</td>\n",
       "      <td>164.192222</td>\n",
       "      <td>57.978115</td>\n",
       "      <td>21.505965</td>\n",
       "      <td>4</td>\n",
       "      <td>0</td>\n",
       "    </tr>\n",
       "    <tr>\n",
       "      <th>999</th>\n",
       "      <td>66</td>\n",
       "      <td>0</td>\n",
       "      <td>178.537130</td>\n",
       "      <td>74.962164</td>\n",
       "      <td>23.517168</td>\n",
       "      <td>1</td>\n",
       "      <td>0</td>\n",
       "    </tr>\n",
       "  </tbody>\n",
       "</table>\n",
       "<p>1000 rows × 7 columns</p>\n",
       "</div>"
      ],
      "text/plain": [
       "     Age  Gender      Height     Weight        BMI  PhysicalActivityLevel  \\\n",
       "0     56       1  173.575262  71.982051  23.891783                      4   \n",
       "1     69       1  164.127306  89.959256  33.395209                      2   \n",
       "2     46       0  168.072202  72.930629  25.817737                      4   \n",
       "3     32       1  168.459633  84.886912  29.912247                      3   \n",
       "4     60       1  183.568568  69.038945  20.487903                      3   \n",
       "..   ...     ...         ...        ...        ...                    ...   \n",
       "995   18       1  155.588674  64.103182  26.480345                      4   \n",
       "996   35       0  165.076490  97.639771  35.830783                      1   \n",
       "997   49       0  156.570956  78.804284  32.146036                      1   \n",
       "998   64       1  164.192222  57.978115  21.505965                      4   \n",
       "999   66       0  178.537130  74.962164  23.517168                      1   \n",
       "\n",
       "     ObesityCategory  \n",
       "0                  0  \n",
       "1                  1  \n",
       "2                  2  \n",
       "3                  2  \n",
       "4                  0  \n",
       "..               ...  \n",
       "995                2  \n",
       "996                1  \n",
       "997                1  \n",
       "998                0  \n",
       "999                0  \n",
       "\n",
       "[1000 rows x 7 columns]"
      ]
     },
     "execution_count": 203,
     "metadata": {},
     "output_type": "execute_result"
    }
   ],
   "source": [
    "encodage(df)"
   ]
  },
  {
   "cell_type": "markdown",
   "metadata": {
    "id": "cVU-ta5WKqSA"
   },
   "source": [
    "## **Part 4**"
   ]
  },
  {
   "cell_type": "markdown",
   "metadata": {
    "id": "SYZQmlhsKuiW"
   },
   "source": [
    "One problem we encountered during the learning process is the issue of generalizability. It is a phenomenon where the model overlearns, including the noise in the data, which limits its ability to perform well on unseen data.\n",
    "\n",
    "That is why, in order to perform good modelling, it is essential to keep a portion of the data aside to evaluate the model after training. This helps give an idea of how well the training actually worked.\n",
    "\n",
    "![image.png](https://miro.medium.com/1*0mYlQihIDkCziGeYO-ePCQ.png)\n",
    "\n",
    "Typical splits are 60% for training and 40% for testing or 80/20."
   ]
  },
  {
   "cell_type": "markdown",
   "metadata": {
    "id": "p5kxi8ORPjGx"
   },
   "source": [
    "Q8: Split the overall dataset into a training set and a test set"
   ]
  },
  {
   "cell_type": "code",
   "execution_count": 207,
   "metadata": {},
   "outputs": [],
   "source": [
    "from sklearn.model_selection import train_test_split\n",
    "\n",
    "X = df.drop(\"ObesityCategory\", axis=1)\n",
    "y = df[\"ObesityCategory\"]\n",
    "\n",
    "X_train, X_test, y_train, y_test = train_test_split(\n",
    "    X, y, test_size=0.4, random_state=42, stratify=y\n",
    ")"
   ]
  },
  {
   "cell_type": "code",
   "execution_count": 169,
   "metadata": {
    "id": "mAzo2Db9Px4r"
   },
   "outputs": [
    {
     "data": {
      "text/plain": [
       "((600, 6), (600,), (400, 6), (400,))"
      ]
     },
     "execution_count": 169,
     "metadata": {},
     "output_type": "execute_result"
    }
   ],
   "source": [
    "X_train.shape, y_train.shape, X_test.shape, y_test.shape"
   ]
  },
  {
   "cell_type": "markdown",
   "metadata": {
    "id": "Otu_ciiGHjBd"
   },
   "source": [
    "## **Part 5**"
   ]
  },
  {
   "cell_type": "markdown",
   "metadata": {
    "id": "BaUJntKG-e30"
   },
   "source": [
    "#### Q9 : Build a decision tree model using Scikit-learn. Keep the default hyperparameters of the chosen algorithm. Specify which decision tree algorithm was used.\n",
    "See the documentation here: https://scikit-learn.org/."
   ]
  },
  {
   "cell_type": "code",
   "execution_count": 209,
   "metadata": {},
   "outputs": [
    {
     "data": {
      "text/html": [
       "<style>#sk-container-id-3 {\n",
       "  /* Definition of color scheme common for light and dark mode */\n",
       "  --sklearn-color-text: black;\n",
       "  --sklearn-color-line: gray;\n",
       "  /* Definition of color scheme for unfitted estimators */\n",
       "  --sklearn-color-unfitted-level-0: #fff5e6;\n",
       "  --sklearn-color-unfitted-level-1: #f6e4d2;\n",
       "  --sklearn-color-unfitted-level-2: #ffe0b3;\n",
       "  --sklearn-color-unfitted-level-3: chocolate;\n",
       "  /* Definition of color scheme for fitted estimators */\n",
       "  --sklearn-color-fitted-level-0: #f0f8ff;\n",
       "  --sklearn-color-fitted-level-1: #d4ebff;\n",
       "  --sklearn-color-fitted-level-2: #b3dbfd;\n",
       "  --sklearn-color-fitted-level-3: cornflowerblue;\n",
       "\n",
       "  /* Specific color for light theme */\n",
       "  --sklearn-color-text-on-default-background: var(--sg-text-color, var(--theme-code-foreground, var(--jp-content-font-color1, black)));\n",
       "  --sklearn-color-background: var(--sg-background-color, var(--theme-background, var(--jp-layout-color0, white)));\n",
       "  --sklearn-color-border-box: var(--sg-text-color, var(--theme-code-foreground, var(--jp-content-font-color1, black)));\n",
       "  --sklearn-color-icon: #696969;\n",
       "\n",
       "  @media (prefers-color-scheme: dark) {\n",
       "    /* Redefinition of color scheme for dark theme */\n",
       "    --sklearn-color-text-on-default-background: var(--sg-text-color, var(--theme-code-foreground, var(--jp-content-font-color1, white)));\n",
       "    --sklearn-color-background: var(--sg-background-color, var(--theme-background, var(--jp-layout-color0, #111)));\n",
       "    --sklearn-color-border-box: var(--sg-text-color, var(--theme-code-foreground, var(--jp-content-font-color1, white)));\n",
       "    --sklearn-color-icon: #878787;\n",
       "  }\n",
       "}\n",
       "\n",
       "#sk-container-id-3 {\n",
       "  color: var(--sklearn-color-text);\n",
       "}\n",
       "\n",
       "#sk-container-id-3 pre {\n",
       "  padding: 0;\n",
       "}\n",
       "\n",
       "#sk-container-id-3 input.sk-hidden--visually {\n",
       "  border: 0;\n",
       "  clip: rect(1px 1px 1px 1px);\n",
       "  clip: rect(1px, 1px, 1px, 1px);\n",
       "  height: 1px;\n",
       "  margin: -1px;\n",
       "  overflow: hidden;\n",
       "  padding: 0;\n",
       "  position: absolute;\n",
       "  width: 1px;\n",
       "}\n",
       "\n",
       "#sk-container-id-3 div.sk-dashed-wrapped {\n",
       "  border: 1px dashed var(--sklearn-color-line);\n",
       "  margin: 0 0.4em 0.5em 0.4em;\n",
       "  box-sizing: border-box;\n",
       "  padding-bottom: 0.4em;\n",
       "  background-color: var(--sklearn-color-background);\n",
       "}\n",
       "\n",
       "#sk-container-id-3 div.sk-container {\n",
       "  /* jupyter's `normalize.less` sets `[hidden] { display: none; }`\n",
       "     but bootstrap.min.css set `[hidden] { display: none !important; }`\n",
       "     so we also need the `!important` here to be able to override the\n",
       "     default hidden behavior on the sphinx rendered scikit-learn.org.\n",
       "     See: https://github.com/scikit-learn/scikit-learn/issues/21755 */\n",
       "  display: inline-block !important;\n",
       "  position: relative;\n",
       "}\n",
       "\n",
       "#sk-container-id-3 div.sk-text-repr-fallback {\n",
       "  display: none;\n",
       "}\n",
       "\n",
       "div.sk-parallel-item,\n",
       "div.sk-serial,\n",
       "div.sk-item {\n",
       "  /* draw centered vertical line to link estimators */\n",
       "  background-image: linear-gradient(var(--sklearn-color-text-on-default-background), var(--sklearn-color-text-on-default-background));\n",
       "  background-size: 2px 100%;\n",
       "  background-repeat: no-repeat;\n",
       "  background-position: center center;\n",
       "}\n",
       "\n",
       "/* Parallel-specific style estimator block */\n",
       "\n",
       "#sk-container-id-3 div.sk-parallel-item::after {\n",
       "  content: \"\";\n",
       "  width: 100%;\n",
       "  border-bottom: 2px solid var(--sklearn-color-text-on-default-background);\n",
       "  flex-grow: 1;\n",
       "}\n",
       "\n",
       "#sk-container-id-3 div.sk-parallel {\n",
       "  display: flex;\n",
       "  align-items: stretch;\n",
       "  justify-content: center;\n",
       "  background-color: var(--sklearn-color-background);\n",
       "  position: relative;\n",
       "}\n",
       "\n",
       "#sk-container-id-3 div.sk-parallel-item {\n",
       "  display: flex;\n",
       "  flex-direction: column;\n",
       "}\n",
       "\n",
       "#sk-container-id-3 div.sk-parallel-item:first-child::after {\n",
       "  align-self: flex-end;\n",
       "  width: 50%;\n",
       "}\n",
       "\n",
       "#sk-container-id-3 div.sk-parallel-item:last-child::after {\n",
       "  align-self: flex-start;\n",
       "  width: 50%;\n",
       "}\n",
       "\n",
       "#sk-container-id-3 div.sk-parallel-item:only-child::after {\n",
       "  width: 0;\n",
       "}\n",
       "\n",
       "/* Serial-specific style estimator block */\n",
       "\n",
       "#sk-container-id-3 div.sk-serial {\n",
       "  display: flex;\n",
       "  flex-direction: column;\n",
       "  align-items: center;\n",
       "  background-color: var(--sklearn-color-background);\n",
       "  padding-right: 1em;\n",
       "  padding-left: 1em;\n",
       "}\n",
       "\n",
       "\n",
       "/* Toggleable style: style used for estimator/Pipeline/ColumnTransformer box that is\n",
       "clickable and can be expanded/collapsed.\n",
       "- Pipeline and ColumnTransformer use this feature and define the default style\n",
       "- Estimators will overwrite some part of the style using the `sk-estimator` class\n",
       "*/\n",
       "\n",
       "/* Pipeline and ColumnTransformer style (default) */\n",
       "\n",
       "#sk-container-id-3 div.sk-toggleable {\n",
       "  /* Default theme specific background. It is overwritten whether we have a\n",
       "  specific estimator or a Pipeline/ColumnTransformer */\n",
       "  background-color: var(--sklearn-color-background);\n",
       "}\n",
       "\n",
       "/* Toggleable label */\n",
       "#sk-container-id-3 label.sk-toggleable__label {\n",
       "  cursor: pointer;\n",
       "  display: block;\n",
       "  width: 100%;\n",
       "  margin-bottom: 0;\n",
       "  padding: 0.5em;\n",
       "  box-sizing: border-box;\n",
       "  text-align: center;\n",
       "}\n",
       "\n",
       "#sk-container-id-3 label.sk-toggleable__label-arrow:before {\n",
       "  /* Arrow on the left of the label */\n",
       "  content: \"▸\";\n",
       "  float: left;\n",
       "  margin-right: 0.25em;\n",
       "  color: var(--sklearn-color-icon);\n",
       "}\n",
       "\n",
       "#sk-container-id-3 label.sk-toggleable__label-arrow:hover:before {\n",
       "  color: var(--sklearn-color-text);\n",
       "}\n",
       "\n",
       "/* Toggleable content - dropdown */\n",
       "\n",
       "#sk-container-id-3 div.sk-toggleable__content {\n",
       "  max-height: 0;\n",
       "  max-width: 0;\n",
       "  overflow: hidden;\n",
       "  text-align: left;\n",
       "  /* unfitted */\n",
       "  background-color: var(--sklearn-color-unfitted-level-0);\n",
       "}\n",
       "\n",
       "#sk-container-id-3 div.sk-toggleable__content.fitted {\n",
       "  /* fitted */\n",
       "  background-color: var(--sklearn-color-fitted-level-0);\n",
       "}\n",
       "\n",
       "#sk-container-id-3 div.sk-toggleable__content pre {\n",
       "  margin: 0.2em;\n",
       "  border-radius: 0.25em;\n",
       "  color: var(--sklearn-color-text);\n",
       "  /* unfitted */\n",
       "  background-color: var(--sklearn-color-unfitted-level-0);\n",
       "}\n",
       "\n",
       "#sk-container-id-3 div.sk-toggleable__content.fitted pre {\n",
       "  /* unfitted */\n",
       "  background-color: var(--sklearn-color-fitted-level-0);\n",
       "}\n",
       "\n",
       "#sk-container-id-3 input.sk-toggleable__control:checked~div.sk-toggleable__content {\n",
       "  /* Expand drop-down */\n",
       "  max-height: 200px;\n",
       "  max-width: 100%;\n",
       "  overflow: auto;\n",
       "}\n",
       "\n",
       "#sk-container-id-3 input.sk-toggleable__control:checked~label.sk-toggleable__label-arrow:before {\n",
       "  content: \"▾\";\n",
       "}\n",
       "\n",
       "/* Pipeline/ColumnTransformer-specific style */\n",
       "\n",
       "#sk-container-id-3 div.sk-label input.sk-toggleable__control:checked~label.sk-toggleable__label {\n",
       "  color: var(--sklearn-color-text);\n",
       "  background-color: var(--sklearn-color-unfitted-level-2);\n",
       "}\n",
       "\n",
       "#sk-container-id-3 div.sk-label.fitted input.sk-toggleable__control:checked~label.sk-toggleable__label {\n",
       "  background-color: var(--sklearn-color-fitted-level-2);\n",
       "}\n",
       "\n",
       "/* Estimator-specific style */\n",
       "\n",
       "/* Colorize estimator box */\n",
       "#sk-container-id-3 div.sk-estimator input.sk-toggleable__control:checked~label.sk-toggleable__label {\n",
       "  /* unfitted */\n",
       "  background-color: var(--sklearn-color-unfitted-level-2);\n",
       "}\n",
       "\n",
       "#sk-container-id-3 div.sk-estimator.fitted input.sk-toggleable__control:checked~label.sk-toggleable__label {\n",
       "  /* fitted */\n",
       "  background-color: var(--sklearn-color-fitted-level-2);\n",
       "}\n",
       "\n",
       "#sk-container-id-3 div.sk-label label.sk-toggleable__label,\n",
       "#sk-container-id-3 div.sk-label label {\n",
       "  /* The background is the default theme color */\n",
       "  color: var(--sklearn-color-text-on-default-background);\n",
       "}\n",
       "\n",
       "/* On hover, darken the color of the background */\n",
       "#sk-container-id-3 div.sk-label:hover label.sk-toggleable__label {\n",
       "  color: var(--sklearn-color-text);\n",
       "  background-color: var(--sklearn-color-unfitted-level-2);\n",
       "}\n",
       "\n",
       "/* Label box, darken color on hover, fitted */\n",
       "#sk-container-id-3 div.sk-label.fitted:hover label.sk-toggleable__label.fitted {\n",
       "  color: var(--sklearn-color-text);\n",
       "  background-color: var(--sklearn-color-fitted-level-2);\n",
       "}\n",
       "\n",
       "/* Estimator label */\n",
       "\n",
       "#sk-container-id-3 div.sk-label label {\n",
       "  font-family: monospace;\n",
       "  font-weight: bold;\n",
       "  display: inline-block;\n",
       "  line-height: 1.2em;\n",
       "}\n",
       "\n",
       "#sk-container-id-3 div.sk-label-container {\n",
       "  text-align: center;\n",
       "}\n",
       "\n",
       "/* Estimator-specific */\n",
       "#sk-container-id-3 div.sk-estimator {\n",
       "  font-family: monospace;\n",
       "  border: 1px dotted var(--sklearn-color-border-box);\n",
       "  border-radius: 0.25em;\n",
       "  box-sizing: border-box;\n",
       "  margin-bottom: 0.5em;\n",
       "  /* unfitted */\n",
       "  background-color: var(--sklearn-color-unfitted-level-0);\n",
       "}\n",
       "\n",
       "#sk-container-id-3 div.sk-estimator.fitted {\n",
       "  /* fitted */\n",
       "  background-color: var(--sklearn-color-fitted-level-0);\n",
       "}\n",
       "\n",
       "/* on hover */\n",
       "#sk-container-id-3 div.sk-estimator:hover {\n",
       "  /* unfitted */\n",
       "  background-color: var(--sklearn-color-unfitted-level-2);\n",
       "}\n",
       "\n",
       "#sk-container-id-3 div.sk-estimator.fitted:hover {\n",
       "  /* fitted */\n",
       "  background-color: var(--sklearn-color-fitted-level-2);\n",
       "}\n",
       "\n",
       "/* Specification for estimator info (e.g. \"i\" and \"?\") */\n",
       "\n",
       "/* Common style for \"i\" and \"?\" */\n",
       "\n",
       ".sk-estimator-doc-link,\n",
       "a:link.sk-estimator-doc-link,\n",
       "a:visited.sk-estimator-doc-link {\n",
       "  float: right;\n",
       "  font-size: smaller;\n",
       "  line-height: 1em;\n",
       "  font-family: monospace;\n",
       "  background-color: var(--sklearn-color-background);\n",
       "  border-radius: 1em;\n",
       "  height: 1em;\n",
       "  width: 1em;\n",
       "  text-decoration: none !important;\n",
       "  margin-left: 1ex;\n",
       "  /* unfitted */\n",
       "  border: var(--sklearn-color-unfitted-level-1) 1pt solid;\n",
       "  color: var(--sklearn-color-unfitted-level-1);\n",
       "}\n",
       "\n",
       ".sk-estimator-doc-link.fitted,\n",
       "a:link.sk-estimator-doc-link.fitted,\n",
       "a:visited.sk-estimator-doc-link.fitted {\n",
       "  /* fitted */\n",
       "  border: var(--sklearn-color-fitted-level-1) 1pt solid;\n",
       "  color: var(--sklearn-color-fitted-level-1);\n",
       "}\n",
       "\n",
       "/* On hover */\n",
       "div.sk-estimator:hover .sk-estimator-doc-link:hover,\n",
       ".sk-estimator-doc-link:hover,\n",
       "div.sk-label-container:hover .sk-estimator-doc-link:hover,\n",
       ".sk-estimator-doc-link:hover {\n",
       "  /* unfitted */\n",
       "  background-color: var(--sklearn-color-unfitted-level-3);\n",
       "  color: var(--sklearn-color-background);\n",
       "  text-decoration: none;\n",
       "}\n",
       "\n",
       "div.sk-estimator.fitted:hover .sk-estimator-doc-link.fitted:hover,\n",
       ".sk-estimator-doc-link.fitted:hover,\n",
       "div.sk-label-container:hover .sk-estimator-doc-link.fitted:hover,\n",
       ".sk-estimator-doc-link.fitted:hover {\n",
       "  /* fitted */\n",
       "  background-color: var(--sklearn-color-fitted-level-3);\n",
       "  color: var(--sklearn-color-background);\n",
       "  text-decoration: none;\n",
       "}\n",
       "\n",
       "/* Span, style for the box shown on hovering the info icon */\n",
       ".sk-estimator-doc-link span {\n",
       "  display: none;\n",
       "  z-index: 9999;\n",
       "  position: relative;\n",
       "  font-weight: normal;\n",
       "  right: .2ex;\n",
       "  padding: .5ex;\n",
       "  margin: .5ex;\n",
       "  width: min-content;\n",
       "  min-width: 20ex;\n",
       "  max-width: 50ex;\n",
       "  color: var(--sklearn-color-text);\n",
       "  box-shadow: 2pt 2pt 4pt #999;\n",
       "  /* unfitted */\n",
       "  background: var(--sklearn-color-unfitted-level-0);\n",
       "  border: .5pt solid var(--sklearn-color-unfitted-level-3);\n",
       "}\n",
       "\n",
       ".sk-estimator-doc-link.fitted span {\n",
       "  /* fitted */\n",
       "  background: var(--sklearn-color-fitted-level-0);\n",
       "  border: var(--sklearn-color-fitted-level-3);\n",
       "}\n",
       "\n",
       ".sk-estimator-doc-link:hover span {\n",
       "  display: block;\n",
       "}\n",
       "\n",
       "/* \"?\"-specific style due to the `<a>` HTML tag */\n",
       "\n",
       "#sk-container-id-3 a.estimator_doc_link {\n",
       "  float: right;\n",
       "  font-size: 1rem;\n",
       "  line-height: 1em;\n",
       "  font-family: monospace;\n",
       "  background-color: var(--sklearn-color-background);\n",
       "  border-radius: 1rem;\n",
       "  height: 1rem;\n",
       "  width: 1rem;\n",
       "  text-decoration: none;\n",
       "  /* unfitted */\n",
       "  color: var(--sklearn-color-unfitted-level-1);\n",
       "  border: var(--sklearn-color-unfitted-level-1) 1pt solid;\n",
       "}\n",
       "\n",
       "#sk-container-id-3 a.estimator_doc_link.fitted {\n",
       "  /* fitted */\n",
       "  border: var(--sklearn-color-fitted-level-1) 1pt solid;\n",
       "  color: var(--sklearn-color-fitted-level-1);\n",
       "}\n",
       "\n",
       "/* On hover */\n",
       "#sk-container-id-3 a.estimator_doc_link:hover {\n",
       "  /* unfitted */\n",
       "  background-color: var(--sklearn-color-unfitted-level-3);\n",
       "  color: var(--sklearn-color-background);\n",
       "  text-decoration: none;\n",
       "}\n",
       "\n",
       "#sk-container-id-3 a.estimator_doc_link.fitted:hover {\n",
       "  /* fitted */\n",
       "  background-color: var(--sklearn-color-fitted-level-3);\n",
       "}\n",
       "</style><div id=\"sk-container-id-3\" class=\"sk-top-container\"><div class=\"sk-text-repr-fallback\"><pre>DecisionTreeClassifier()</pre><b>In a Jupyter environment, please rerun this cell to show the HTML representation or trust the notebook. <br />On GitHub, the HTML representation is unable to render, please try loading this page with nbviewer.org.</b></div><div class=\"sk-container\" hidden><div class=\"sk-item\"><div class=\"sk-estimator fitted sk-toggleable\"><input class=\"sk-toggleable__control sk-hidden--visually\" id=\"sk-estimator-id-3\" type=\"checkbox\" checked><label for=\"sk-estimator-id-3\" class=\"sk-toggleable__label fitted sk-toggleable__label-arrow fitted\">&nbsp;&nbsp;DecisionTreeClassifier<a class=\"sk-estimator-doc-link fitted\" rel=\"noreferrer\" target=\"_blank\" href=\"https://scikit-learn.org/1.5/modules/generated/sklearn.tree.DecisionTreeClassifier.html\">?<span>Documentation for DecisionTreeClassifier</span></a><span class=\"sk-estimator-doc-link fitted\">i<span>Fitted</span></span></label><div class=\"sk-toggleable__content fitted\"><pre>DecisionTreeClassifier()</pre></div> </div></div></div></div>"
      ],
      "text/plain": [
       "DecisionTreeClassifier()"
      ]
     },
     "execution_count": 209,
     "metadata": {},
     "output_type": "execute_result"
    }
   ],
   "source": [
    "from sklearn.tree import DecisionTreeClassifier\n",
    "from sklearn.metrics import accuracy_score\n",
    "\n",
    "model1 = DecisionTreeClassifier()  \n",
    "model1.fit(X_train, y_train)\n"
   ]
  },
  {
   "cell_type": "markdown",
   "metadata": {
    "id": "eSDbedDO9krc"
   },
   "source": [
    "#### Q10 : Use the test set to evaluate how well your model generalizes to unseen data. Provide a clear explanation of all the evaluation metrics used."
   ]
  },
  {
   "cell_type": "markdown",
   "metadata": {
    "id": "5rRHuRrqVXwS"
   },
   "source": [
    "Answer : ...."
   ]
  },
  {
   "cell_type": "code",
   "execution_count": 211,
   "metadata": {},
   "outputs": [
    {
     "name": "stdout",
     "output_type": "stream",
     "text": [
      "Accuracy: 0.9975\n",
      "Classification report:\n",
      "               precision    recall  f1-score   support\n",
      "\n",
      "           0       0.99      1.00      1.00       149\n",
      "           1       1.00      1.00      1.00        76\n",
      "           2       1.00      1.00      1.00       118\n",
      "           3       1.00      0.98      0.99        57\n",
      "\n",
      "    accuracy                           1.00       400\n",
      "   macro avg       1.00      1.00      1.00       400\n",
      "weighted avg       1.00      1.00      1.00       400\n",
      "\n",
      "Confusion matrix:\n",
      " [[149   0   0   0]\n",
      " [  0  76   0   0]\n",
      " [  0   0 118   0]\n",
      " [  1   0   0  56]]\n"
     ]
    }
   ],
   "source": [
    "from sklearn.metrics import accuracy_score, classification_report, confusion_matrix\n",
    "\n",
    "y_pred = model1.predict(X_test)\n",
    "\n",
    "print(\"Accuracy:\", accuracy_score(y_test, y_pred))\n",
    "print(\"Classification report:\\n\", classification_report(y_test, y_pred))\n",
    "print(\"Confusion matrix:\\n\", confusion_matrix(y_test, y_pred))\n"
   ]
  },
  {
   "cell_type": "markdown",
   "metadata": {
    "id": "UZtJF-T0VeQx"
   },
   "source": [
    "## **Part 6**"
   ]
  },
  {
   "cell_type": "markdown",
   "metadata": {
    "id": "Mj6Qk7-RCJ-l"
   },
   "source": [
    "Q11 : Using the same algorithm, propose an alternative criterion for selecting the root node."
   ]
  },
  {
   "cell_type": "code",
   "execution_count": 213,
   "metadata": {
    "id": "qnqQWYcrXmhp"
   },
   "outputs": [
    {
     "data": {
      "text/html": [
       "<style>#sk-container-id-4 {\n",
       "  /* Definition of color scheme common for light and dark mode */\n",
       "  --sklearn-color-text: black;\n",
       "  --sklearn-color-line: gray;\n",
       "  /* Definition of color scheme for unfitted estimators */\n",
       "  --sklearn-color-unfitted-level-0: #fff5e6;\n",
       "  --sklearn-color-unfitted-level-1: #f6e4d2;\n",
       "  --sklearn-color-unfitted-level-2: #ffe0b3;\n",
       "  --sklearn-color-unfitted-level-3: chocolate;\n",
       "  /* Definition of color scheme for fitted estimators */\n",
       "  --sklearn-color-fitted-level-0: #f0f8ff;\n",
       "  --sklearn-color-fitted-level-1: #d4ebff;\n",
       "  --sklearn-color-fitted-level-2: #b3dbfd;\n",
       "  --sklearn-color-fitted-level-3: cornflowerblue;\n",
       "\n",
       "  /* Specific color for light theme */\n",
       "  --sklearn-color-text-on-default-background: var(--sg-text-color, var(--theme-code-foreground, var(--jp-content-font-color1, black)));\n",
       "  --sklearn-color-background: var(--sg-background-color, var(--theme-background, var(--jp-layout-color0, white)));\n",
       "  --sklearn-color-border-box: var(--sg-text-color, var(--theme-code-foreground, var(--jp-content-font-color1, black)));\n",
       "  --sklearn-color-icon: #696969;\n",
       "\n",
       "  @media (prefers-color-scheme: dark) {\n",
       "    /* Redefinition of color scheme for dark theme */\n",
       "    --sklearn-color-text-on-default-background: var(--sg-text-color, var(--theme-code-foreground, var(--jp-content-font-color1, white)));\n",
       "    --sklearn-color-background: var(--sg-background-color, var(--theme-background, var(--jp-layout-color0, #111)));\n",
       "    --sklearn-color-border-box: var(--sg-text-color, var(--theme-code-foreground, var(--jp-content-font-color1, white)));\n",
       "    --sklearn-color-icon: #878787;\n",
       "  }\n",
       "}\n",
       "\n",
       "#sk-container-id-4 {\n",
       "  color: var(--sklearn-color-text);\n",
       "}\n",
       "\n",
       "#sk-container-id-4 pre {\n",
       "  padding: 0;\n",
       "}\n",
       "\n",
       "#sk-container-id-4 input.sk-hidden--visually {\n",
       "  border: 0;\n",
       "  clip: rect(1px 1px 1px 1px);\n",
       "  clip: rect(1px, 1px, 1px, 1px);\n",
       "  height: 1px;\n",
       "  margin: -1px;\n",
       "  overflow: hidden;\n",
       "  padding: 0;\n",
       "  position: absolute;\n",
       "  width: 1px;\n",
       "}\n",
       "\n",
       "#sk-container-id-4 div.sk-dashed-wrapped {\n",
       "  border: 1px dashed var(--sklearn-color-line);\n",
       "  margin: 0 0.4em 0.5em 0.4em;\n",
       "  box-sizing: border-box;\n",
       "  padding-bottom: 0.4em;\n",
       "  background-color: var(--sklearn-color-background);\n",
       "}\n",
       "\n",
       "#sk-container-id-4 div.sk-container {\n",
       "  /* jupyter's `normalize.less` sets `[hidden] { display: none; }`\n",
       "     but bootstrap.min.css set `[hidden] { display: none !important; }`\n",
       "     so we also need the `!important` here to be able to override the\n",
       "     default hidden behavior on the sphinx rendered scikit-learn.org.\n",
       "     See: https://github.com/scikit-learn/scikit-learn/issues/21755 */\n",
       "  display: inline-block !important;\n",
       "  position: relative;\n",
       "}\n",
       "\n",
       "#sk-container-id-4 div.sk-text-repr-fallback {\n",
       "  display: none;\n",
       "}\n",
       "\n",
       "div.sk-parallel-item,\n",
       "div.sk-serial,\n",
       "div.sk-item {\n",
       "  /* draw centered vertical line to link estimators */\n",
       "  background-image: linear-gradient(var(--sklearn-color-text-on-default-background), var(--sklearn-color-text-on-default-background));\n",
       "  background-size: 2px 100%;\n",
       "  background-repeat: no-repeat;\n",
       "  background-position: center center;\n",
       "}\n",
       "\n",
       "/* Parallel-specific style estimator block */\n",
       "\n",
       "#sk-container-id-4 div.sk-parallel-item::after {\n",
       "  content: \"\";\n",
       "  width: 100%;\n",
       "  border-bottom: 2px solid var(--sklearn-color-text-on-default-background);\n",
       "  flex-grow: 1;\n",
       "}\n",
       "\n",
       "#sk-container-id-4 div.sk-parallel {\n",
       "  display: flex;\n",
       "  align-items: stretch;\n",
       "  justify-content: center;\n",
       "  background-color: var(--sklearn-color-background);\n",
       "  position: relative;\n",
       "}\n",
       "\n",
       "#sk-container-id-4 div.sk-parallel-item {\n",
       "  display: flex;\n",
       "  flex-direction: column;\n",
       "}\n",
       "\n",
       "#sk-container-id-4 div.sk-parallel-item:first-child::after {\n",
       "  align-self: flex-end;\n",
       "  width: 50%;\n",
       "}\n",
       "\n",
       "#sk-container-id-4 div.sk-parallel-item:last-child::after {\n",
       "  align-self: flex-start;\n",
       "  width: 50%;\n",
       "}\n",
       "\n",
       "#sk-container-id-4 div.sk-parallel-item:only-child::after {\n",
       "  width: 0;\n",
       "}\n",
       "\n",
       "/* Serial-specific style estimator block */\n",
       "\n",
       "#sk-container-id-4 div.sk-serial {\n",
       "  display: flex;\n",
       "  flex-direction: column;\n",
       "  align-items: center;\n",
       "  background-color: var(--sklearn-color-background);\n",
       "  padding-right: 1em;\n",
       "  padding-left: 1em;\n",
       "}\n",
       "\n",
       "\n",
       "/* Toggleable style: style used for estimator/Pipeline/ColumnTransformer box that is\n",
       "clickable and can be expanded/collapsed.\n",
       "- Pipeline and ColumnTransformer use this feature and define the default style\n",
       "- Estimators will overwrite some part of the style using the `sk-estimator` class\n",
       "*/\n",
       "\n",
       "/* Pipeline and ColumnTransformer style (default) */\n",
       "\n",
       "#sk-container-id-4 div.sk-toggleable {\n",
       "  /* Default theme specific background. It is overwritten whether we have a\n",
       "  specific estimator or a Pipeline/ColumnTransformer */\n",
       "  background-color: var(--sklearn-color-background);\n",
       "}\n",
       "\n",
       "/* Toggleable label */\n",
       "#sk-container-id-4 label.sk-toggleable__label {\n",
       "  cursor: pointer;\n",
       "  display: block;\n",
       "  width: 100%;\n",
       "  margin-bottom: 0;\n",
       "  padding: 0.5em;\n",
       "  box-sizing: border-box;\n",
       "  text-align: center;\n",
       "}\n",
       "\n",
       "#sk-container-id-4 label.sk-toggleable__label-arrow:before {\n",
       "  /* Arrow on the left of the label */\n",
       "  content: \"▸\";\n",
       "  float: left;\n",
       "  margin-right: 0.25em;\n",
       "  color: var(--sklearn-color-icon);\n",
       "}\n",
       "\n",
       "#sk-container-id-4 label.sk-toggleable__label-arrow:hover:before {\n",
       "  color: var(--sklearn-color-text);\n",
       "}\n",
       "\n",
       "/* Toggleable content - dropdown */\n",
       "\n",
       "#sk-container-id-4 div.sk-toggleable__content {\n",
       "  max-height: 0;\n",
       "  max-width: 0;\n",
       "  overflow: hidden;\n",
       "  text-align: left;\n",
       "  /* unfitted */\n",
       "  background-color: var(--sklearn-color-unfitted-level-0);\n",
       "}\n",
       "\n",
       "#sk-container-id-4 div.sk-toggleable__content.fitted {\n",
       "  /* fitted */\n",
       "  background-color: var(--sklearn-color-fitted-level-0);\n",
       "}\n",
       "\n",
       "#sk-container-id-4 div.sk-toggleable__content pre {\n",
       "  margin: 0.2em;\n",
       "  border-radius: 0.25em;\n",
       "  color: var(--sklearn-color-text);\n",
       "  /* unfitted */\n",
       "  background-color: var(--sklearn-color-unfitted-level-0);\n",
       "}\n",
       "\n",
       "#sk-container-id-4 div.sk-toggleable__content.fitted pre {\n",
       "  /* unfitted */\n",
       "  background-color: var(--sklearn-color-fitted-level-0);\n",
       "}\n",
       "\n",
       "#sk-container-id-4 input.sk-toggleable__control:checked~div.sk-toggleable__content {\n",
       "  /* Expand drop-down */\n",
       "  max-height: 200px;\n",
       "  max-width: 100%;\n",
       "  overflow: auto;\n",
       "}\n",
       "\n",
       "#sk-container-id-4 input.sk-toggleable__control:checked~label.sk-toggleable__label-arrow:before {\n",
       "  content: \"▾\";\n",
       "}\n",
       "\n",
       "/* Pipeline/ColumnTransformer-specific style */\n",
       "\n",
       "#sk-container-id-4 div.sk-label input.sk-toggleable__control:checked~label.sk-toggleable__label {\n",
       "  color: var(--sklearn-color-text);\n",
       "  background-color: var(--sklearn-color-unfitted-level-2);\n",
       "}\n",
       "\n",
       "#sk-container-id-4 div.sk-label.fitted input.sk-toggleable__control:checked~label.sk-toggleable__label {\n",
       "  background-color: var(--sklearn-color-fitted-level-2);\n",
       "}\n",
       "\n",
       "/* Estimator-specific style */\n",
       "\n",
       "/* Colorize estimator box */\n",
       "#sk-container-id-4 div.sk-estimator input.sk-toggleable__control:checked~label.sk-toggleable__label {\n",
       "  /* unfitted */\n",
       "  background-color: var(--sklearn-color-unfitted-level-2);\n",
       "}\n",
       "\n",
       "#sk-container-id-4 div.sk-estimator.fitted input.sk-toggleable__control:checked~label.sk-toggleable__label {\n",
       "  /* fitted */\n",
       "  background-color: var(--sklearn-color-fitted-level-2);\n",
       "}\n",
       "\n",
       "#sk-container-id-4 div.sk-label label.sk-toggleable__label,\n",
       "#sk-container-id-4 div.sk-label label {\n",
       "  /* The background is the default theme color */\n",
       "  color: var(--sklearn-color-text-on-default-background);\n",
       "}\n",
       "\n",
       "/* On hover, darken the color of the background */\n",
       "#sk-container-id-4 div.sk-label:hover label.sk-toggleable__label {\n",
       "  color: var(--sklearn-color-text);\n",
       "  background-color: var(--sklearn-color-unfitted-level-2);\n",
       "}\n",
       "\n",
       "/* Label box, darken color on hover, fitted */\n",
       "#sk-container-id-4 div.sk-label.fitted:hover label.sk-toggleable__label.fitted {\n",
       "  color: var(--sklearn-color-text);\n",
       "  background-color: var(--sklearn-color-fitted-level-2);\n",
       "}\n",
       "\n",
       "/* Estimator label */\n",
       "\n",
       "#sk-container-id-4 div.sk-label label {\n",
       "  font-family: monospace;\n",
       "  font-weight: bold;\n",
       "  display: inline-block;\n",
       "  line-height: 1.2em;\n",
       "}\n",
       "\n",
       "#sk-container-id-4 div.sk-label-container {\n",
       "  text-align: center;\n",
       "}\n",
       "\n",
       "/* Estimator-specific */\n",
       "#sk-container-id-4 div.sk-estimator {\n",
       "  font-family: monospace;\n",
       "  border: 1px dotted var(--sklearn-color-border-box);\n",
       "  border-radius: 0.25em;\n",
       "  box-sizing: border-box;\n",
       "  margin-bottom: 0.5em;\n",
       "  /* unfitted */\n",
       "  background-color: var(--sklearn-color-unfitted-level-0);\n",
       "}\n",
       "\n",
       "#sk-container-id-4 div.sk-estimator.fitted {\n",
       "  /* fitted */\n",
       "  background-color: var(--sklearn-color-fitted-level-0);\n",
       "}\n",
       "\n",
       "/* on hover */\n",
       "#sk-container-id-4 div.sk-estimator:hover {\n",
       "  /* unfitted */\n",
       "  background-color: var(--sklearn-color-unfitted-level-2);\n",
       "}\n",
       "\n",
       "#sk-container-id-4 div.sk-estimator.fitted:hover {\n",
       "  /* fitted */\n",
       "  background-color: var(--sklearn-color-fitted-level-2);\n",
       "}\n",
       "\n",
       "/* Specification for estimator info (e.g. \"i\" and \"?\") */\n",
       "\n",
       "/* Common style for \"i\" and \"?\" */\n",
       "\n",
       ".sk-estimator-doc-link,\n",
       "a:link.sk-estimator-doc-link,\n",
       "a:visited.sk-estimator-doc-link {\n",
       "  float: right;\n",
       "  font-size: smaller;\n",
       "  line-height: 1em;\n",
       "  font-family: monospace;\n",
       "  background-color: var(--sklearn-color-background);\n",
       "  border-radius: 1em;\n",
       "  height: 1em;\n",
       "  width: 1em;\n",
       "  text-decoration: none !important;\n",
       "  margin-left: 1ex;\n",
       "  /* unfitted */\n",
       "  border: var(--sklearn-color-unfitted-level-1) 1pt solid;\n",
       "  color: var(--sklearn-color-unfitted-level-1);\n",
       "}\n",
       "\n",
       ".sk-estimator-doc-link.fitted,\n",
       "a:link.sk-estimator-doc-link.fitted,\n",
       "a:visited.sk-estimator-doc-link.fitted {\n",
       "  /* fitted */\n",
       "  border: var(--sklearn-color-fitted-level-1) 1pt solid;\n",
       "  color: var(--sklearn-color-fitted-level-1);\n",
       "}\n",
       "\n",
       "/* On hover */\n",
       "div.sk-estimator:hover .sk-estimator-doc-link:hover,\n",
       ".sk-estimator-doc-link:hover,\n",
       "div.sk-label-container:hover .sk-estimator-doc-link:hover,\n",
       ".sk-estimator-doc-link:hover {\n",
       "  /* unfitted */\n",
       "  background-color: var(--sklearn-color-unfitted-level-3);\n",
       "  color: var(--sklearn-color-background);\n",
       "  text-decoration: none;\n",
       "}\n",
       "\n",
       "div.sk-estimator.fitted:hover .sk-estimator-doc-link.fitted:hover,\n",
       ".sk-estimator-doc-link.fitted:hover,\n",
       "div.sk-label-container:hover .sk-estimator-doc-link.fitted:hover,\n",
       ".sk-estimator-doc-link.fitted:hover {\n",
       "  /* fitted */\n",
       "  background-color: var(--sklearn-color-fitted-level-3);\n",
       "  color: var(--sklearn-color-background);\n",
       "  text-decoration: none;\n",
       "}\n",
       "\n",
       "/* Span, style for the box shown on hovering the info icon */\n",
       ".sk-estimator-doc-link span {\n",
       "  display: none;\n",
       "  z-index: 9999;\n",
       "  position: relative;\n",
       "  font-weight: normal;\n",
       "  right: .2ex;\n",
       "  padding: .5ex;\n",
       "  margin: .5ex;\n",
       "  width: min-content;\n",
       "  min-width: 20ex;\n",
       "  max-width: 50ex;\n",
       "  color: var(--sklearn-color-text);\n",
       "  box-shadow: 2pt 2pt 4pt #999;\n",
       "  /* unfitted */\n",
       "  background: var(--sklearn-color-unfitted-level-0);\n",
       "  border: .5pt solid var(--sklearn-color-unfitted-level-3);\n",
       "}\n",
       "\n",
       ".sk-estimator-doc-link.fitted span {\n",
       "  /* fitted */\n",
       "  background: var(--sklearn-color-fitted-level-0);\n",
       "  border: var(--sklearn-color-fitted-level-3);\n",
       "}\n",
       "\n",
       ".sk-estimator-doc-link:hover span {\n",
       "  display: block;\n",
       "}\n",
       "\n",
       "/* \"?\"-specific style due to the `<a>` HTML tag */\n",
       "\n",
       "#sk-container-id-4 a.estimator_doc_link {\n",
       "  float: right;\n",
       "  font-size: 1rem;\n",
       "  line-height: 1em;\n",
       "  font-family: monospace;\n",
       "  background-color: var(--sklearn-color-background);\n",
       "  border-radius: 1rem;\n",
       "  height: 1rem;\n",
       "  width: 1rem;\n",
       "  text-decoration: none;\n",
       "  /* unfitted */\n",
       "  color: var(--sklearn-color-unfitted-level-1);\n",
       "  border: var(--sklearn-color-unfitted-level-1) 1pt solid;\n",
       "}\n",
       "\n",
       "#sk-container-id-4 a.estimator_doc_link.fitted {\n",
       "  /* fitted */\n",
       "  border: var(--sklearn-color-fitted-level-1) 1pt solid;\n",
       "  color: var(--sklearn-color-fitted-level-1);\n",
       "}\n",
       "\n",
       "/* On hover */\n",
       "#sk-container-id-4 a.estimator_doc_link:hover {\n",
       "  /* unfitted */\n",
       "  background-color: var(--sklearn-color-unfitted-level-3);\n",
       "  color: var(--sklearn-color-background);\n",
       "  text-decoration: none;\n",
       "}\n",
       "\n",
       "#sk-container-id-4 a.estimator_doc_link.fitted:hover {\n",
       "  /* fitted */\n",
       "  background-color: var(--sklearn-color-fitted-level-3);\n",
       "}\n",
       "</style><div id=\"sk-container-id-4\" class=\"sk-top-container\"><div class=\"sk-text-repr-fallback\"><pre>DecisionTreeClassifier(criterion=&#x27;entropy&#x27;, random_state=0)</pre><b>In a Jupyter environment, please rerun this cell to show the HTML representation or trust the notebook. <br />On GitHub, the HTML representation is unable to render, please try loading this page with nbviewer.org.</b></div><div class=\"sk-container\" hidden><div class=\"sk-item\"><div class=\"sk-estimator fitted sk-toggleable\"><input class=\"sk-toggleable__control sk-hidden--visually\" id=\"sk-estimator-id-4\" type=\"checkbox\" checked><label for=\"sk-estimator-id-4\" class=\"sk-toggleable__label fitted sk-toggleable__label-arrow fitted\">&nbsp;&nbsp;DecisionTreeClassifier<a class=\"sk-estimator-doc-link fitted\" rel=\"noreferrer\" target=\"_blank\" href=\"https://scikit-learn.org/1.5/modules/generated/sklearn.tree.DecisionTreeClassifier.html\">?<span>Documentation for DecisionTreeClassifier</span></a><span class=\"sk-estimator-doc-link fitted\">i<span>Fitted</span></span></label><div class=\"sk-toggleable__content fitted\"><pre>DecisionTreeClassifier(criterion=&#x27;entropy&#x27;, random_state=0)</pre></div> </div></div></div></div>"
      ],
      "text/plain": [
       "DecisionTreeClassifier(criterion='entropy', random_state=0)"
      ]
     },
     "execution_count": 213,
     "metadata": {},
     "output_type": "execute_result"
    }
   ],
   "source": [
    "model2 = DecisionTreeClassifier(criterion=\"entropy\", random_state=0)  \n",
    "model2.fit(X_train, y_train)"
   ]
  },
  {
   "cell_type": "markdown",
   "metadata": {
    "id": "-wTMWY9vXqy1"
   },
   "source": [
    "Q12 : Use the test set to evaluate how well your new model generalizes to unseen data."
   ]
  },
  {
   "cell_type": "code",
   "execution_count": 215,
   "metadata": {
    "id": "dS1_Idh7X1_Z"
   },
   "outputs": [
    {
     "name": "stdout",
     "output_type": "stream",
     "text": [
      "Accuracy: 0.9975\n",
      "Classification report:\n",
      "               precision    recall  f1-score   support\n",
      "\n",
      "           0       0.99      1.00      1.00       149\n",
      "           1       1.00      1.00      1.00        76\n",
      "           2       1.00      1.00      1.00       118\n",
      "           3       1.00      0.98      0.99        57\n",
      "\n",
      "    accuracy                           1.00       400\n",
      "   macro avg       1.00      1.00      1.00       400\n",
      "weighted avg       1.00      1.00      1.00       400\n",
      "\n",
      "Confusion matrix:\n",
      " [[149   0   0   0]\n",
      " [  0  76   0   0]\n",
      " [  0   0 118   0]\n",
      " [  1   0   0  56]]\n"
     ]
    }
   ],
   "source": [
    "\n",
    "y_pred = model2.predict(X_test)\n",
    "\n",
    "print(\"Accuracy:\", accuracy_score(y_test, y_pred))\n",
    "print(\"Classification report:\\n\", classification_report(y_test, y_pred))\n",
    "print(\"Confusion matrix:\\n\", confusion_matrix(y_test, y_pred))"
   ]
  },
  {
   "cell_type": "markdown",
   "metadata": {
    "id": "IPGkoAil-arM"
   },
   "source": [
    "### **Part 7**"
   ]
  },
  {
   "cell_type": "markdown",
   "metadata": {
    "id": "T-E_4KEjYOtZ"
   },
   "source": [
    "Q13 : Display the decision tree for both Model 1 and Model 2."
   ]
  },
  {
   "cell_type": "markdown",
   "metadata": {
    "id": "uuDttfm0ZBUS"
   },
   "source": [
    "##### For model1"
   ]
  },
  {
   "cell_type": "code",
   "execution_count": 217,
   "metadata": {
    "id": "yt2VYGvV-c5d"
   },
   "outputs": [
    {
     "name": "stdout",
     "output_type": "stream",
     "text": [
      "Requirement already satisfied: graphviz in c:\\users\\toufi\\anaconda3\\lib\\site-packages (0.21)\n"
     ]
    }
   ],
   "source": [
    "import sys\n",
    "!{sys.executable} -m pip install graphviz\n",
    "from graphviz import Source\n",
    "\n",
    "from IPython.display import display, SVG\n",
    "from sklearn.tree import export_graphviz"
   ]
  },
  {
   "cell_type": "code",
   "execution_count": 219,
   "metadata": {
    "id": "BeyrhcW0YZK2"
   },
   "outputs": [],
   "source": [
    "graph = Source(export_graphviz(model1, out_file=None, \n",
    "                               feature_names=X_train.columns,\n",
    "                               class_names=[str(c) for c in model1.classes_],\n",
    "                               filled=True, rounded=True))"
   ]
  },
  {
   "cell_type": "code",
   "execution_count": 126,
   "metadata": {},
   "outputs": [
    {
     "data": {
      "text/plain": [
       "['0', '1', '2', '3']"
      ]
     },
     "execution_count": 126,
     "metadata": {},
     "output_type": "execute_result"
    }
   ],
   "source": [
    "[str(c) for c in model1.classes_]"
   ]
  },
  {
   "cell_type": "code",
   "execution_count": 221,
   "metadata": {
    "id": "wQCzrEgBYh6S"
   },
   "outputs": [
    {
     "data": {
      "image/svg+xml": [
       "<svg xmlns=\"http://www.w3.org/2000/svg\" xmlns:xlink=\"http://www.w3.org/1999/xlink\" width=\"615pt\" height=\"325pt\" viewBox=\"0.00 0.00 615.00 325.00\">\n",
       "<g id=\"graph0\" class=\"graph\" transform=\"scale(1 1) rotate(0) translate(4 320.5)\">\n",
       "<title>Tree</title>\n",
       "<polygon fill=\"white\" stroke=\"none\" points=\"-4,4 -4,-320.5 610.88,-320.5 610.88,4 -4,4\"/>\n",
       "<!-- 0 -->\n",
       "<g id=\"node1\" class=\"node\">\n",
       "<title>0</title>\n",
       "<path fill=\"#fcf2ea\" stroke=\"black\" d=\"M398.12,-316.5C398.12,-316.5 201.38,-316.5 201.38,-316.5 195.38,-316.5 189.38,-310.5 189.38,-304.5 189.38,-304.5 189.38,-241.75 189.38,-241.75 189.38,-235.75 195.38,-229.75 201.38,-229.75 201.38,-229.75 398.12,-229.75 398.12,-229.75 404.12,-229.75 410.12,-235.75 410.12,-241.75 410.12,-241.75 410.12,-304.5 410.12,-304.5 410.12,-310.5 404.12,-316.5 398.12,-316.5\"/>\n",
       "<text xml:space=\"preserve\" text-anchor=\"middle\" x=\"299.75\" y=\"-299.2\" font-family=\"Helvetica,sans-Serif\" font-size=\"14.00\">BMI &lt;= 24.979</text>\n",
       "<text xml:space=\"preserve\" text-anchor=\"middle\" x=\"299.75\" y=\"-283.45\" font-family=\"Helvetica,sans-Serif\" font-size=\"14.00\">gini = 0.719</text>\n",
       "<text xml:space=\"preserve\" text-anchor=\"middle\" x=\"299.75\" y=\"-267.7\" font-family=\"Helvetica,sans-Serif\" font-size=\"14.00\">samples = 600</text>\n",
       "<text xml:space=\"preserve\" text-anchor=\"middle\" x=\"299.75\" y=\"-251.95\" font-family=\"Helvetica,sans-Serif\" font-size=\"14.00\">value = [222.0, 115.0, 177.0, 86.0]</text>\n",
       "<text xml:space=\"preserve\" text-anchor=\"middle\" x=\"299.75\" y=\"-236.2\" font-family=\"Helvetica,sans-Serif\" font-size=\"14.00\">class = 0</text>\n",
       "</g>\n",
       "<!-- 1 -->\n",
       "<g id=\"node2\" class=\"node\">\n",
       "<title>1</title>\n",
       "<path fill=\"#efb286\" stroke=\"black\" d=\"M277,-193.75C277,-193.75 154.5,-193.75 154.5,-193.75 148.5,-193.75 142.5,-187.75 142.5,-181.75 142.5,-181.75 142.5,-119 142.5,-119 142.5,-113 148.5,-107 154.5,-107 154.5,-107 277,-107 277,-107 283,-107 289,-113 289,-119 289,-119 289,-181.75 289,-181.75 289,-187.75 283,-193.75 277,-193.75\"/>\n",
       "<text xml:space=\"preserve\" text-anchor=\"middle\" x=\"215.75\" y=\"-176.45\" font-family=\"Helvetica,sans-Serif\" font-size=\"14.00\">BMI &lt;= 18.475</text>\n",
       "<text xml:space=\"preserve\" text-anchor=\"middle\" x=\"215.75\" y=\"-160.7\" font-family=\"Helvetica,sans-Serif\" font-size=\"14.00\">gini = 0.403</text>\n",
       "<text xml:space=\"preserve\" text-anchor=\"middle\" x=\"215.75\" y=\"-144.95\" font-family=\"Helvetica,sans-Serif\" font-size=\"14.00\">samples = 308</text>\n",
       "<text xml:space=\"preserve\" text-anchor=\"middle\" x=\"215.75\" y=\"-129.2\" font-family=\"Helvetica,sans-Serif\" font-size=\"14.00\">value = [222, 0, 0, 86]</text>\n",
       "<text xml:space=\"preserve\" text-anchor=\"middle\" x=\"215.75\" y=\"-113.45\" font-family=\"Helvetica,sans-Serif\" font-size=\"14.00\">class = 0</text>\n",
       "</g>\n",
       "<!-- 0&#45;&gt;1 -->\n",
       "<g id=\"edge1\" class=\"edge\">\n",
       "<title>0-&gt;1</title>\n",
       "<path fill=\"none\" stroke=\"black\" d=\"M270.13,-229.55C264.24,-221.08 257.98,-212.09 251.9,-203.33\"/>\n",
       "<polygon fill=\"black\" stroke=\"black\" points=\"254.83,-201.42 246.25,-195.21 249.08,-205.42 254.83,-201.42\"/>\n",
       "<text xml:space=\"preserve\" text-anchor=\"middle\" x=\"240.96\" y=\"-213.15\" font-family=\"Helvetica,sans-Serif\" font-size=\"14.00\">True</text>\n",
       "</g>\n",
       "<!-- 4 -->\n",
       "<g id=\"node5\" class=\"node\">\n",
       "<title>4</title>\n",
       "<path fill=\"#baddf6\" stroke=\"black\" d=\"M448.38,-193.75C448.38,-193.75 319.12,-193.75 319.12,-193.75 313.12,-193.75 307.12,-187.75 307.12,-181.75 307.12,-181.75 307.12,-119 307.12,-119 307.12,-113 313.12,-107 319.12,-107 319.12,-107 448.38,-107 448.38,-107 454.38,-107 460.38,-113 460.38,-119 460.38,-119 460.38,-181.75 460.38,-181.75 460.38,-187.75 454.38,-193.75 448.38,-193.75\"/>\n",
       "<text xml:space=\"preserve\" text-anchor=\"middle\" x=\"383.75\" y=\"-176.45\" font-family=\"Helvetica,sans-Serif\" font-size=\"14.00\">BMI &lt;= 29.995</text>\n",
       "<text xml:space=\"preserve\" text-anchor=\"middle\" x=\"383.75\" y=\"-160.7\" font-family=\"Helvetica,sans-Serif\" font-size=\"14.00\">gini = 0.477</text>\n",
       "<text xml:space=\"preserve\" text-anchor=\"middle\" x=\"383.75\" y=\"-144.95\" font-family=\"Helvetica,sans-Serif\" font-size=\"14.00\">samples = 292</text>\n",
       "<text xml:space=\"preserve\" text-anchor=\"middle\" x=\"383.75\" y=\"-129.2\" font-family=\"Helvetica,sans-Serif\" font-size=\"14.00\">value = [0, 115, 177, 0]</text>\n",
       "<text xml:space=\"preserve\" text-anchor=\"middle\" x=\"383.75\" y=\"-113.45\" font-family=\"Helvetica,sans-Serif\" font-size=\"14.00\">class = 2</text>\n",
       "</g>\n",
       "<!-- 0&#45;&gt;4 -->\n",
       "<g id=\"edge4\" class=\"edge\">\n",
       "<title>0-&gt;4</title>\n",
       "<path fill=\"none\" stroke=\"black\" d=\"M329.37,-229.55C335.26,-221.08 341.52,-212.09 347.6,-203.33\"/>\n",
       "<polygon fill=\"black\" stroke=\"black\" points=\"350.42,-205.42 353.25,-195.21 344.67,-201.42 350.42,-205.42\"/>\n",
       "<text xml:space=\"preserve\" text-anchor=\"middle\" x=\"358.54\" y=\"-213.15\" font-family=\"Helvetica,sans-Serif\" font-size=\"14.00\">False</text>\n",
       "</g>\n",
       "<!-- 2 -->\n",
       "<g id=\"node3\" class=\"node\">\n",
       "<title>2</title>\n",
       "<path fill=\"#d739e5\" stroke=\"black\" d=\"M119.5,-71C119.5,-71 12,-71 12,-71 6,-71 0,-65 0,-59 0,-59 0,-12 0,-12 0,-6 6,0 12,0 12,0 119.5,0 119.5,0 125.5,0 131.5,-6 131.5,-12 131.5,-12 131.5,-59 131.5,-59 131.5,-65 125.5,-71 119.5,-71\"/>\n",
       "<text xml:space=\"preserve\" text-anchor=\"middle\" x=\"65.75\" y=\"-53.7\" font-family=\"Helvetica,sans-Serif\" font-size=\"14.00\">gini = 0.0</text>\n",
       "<text xml:space=\"preserve\" text-anchor=\"middle\" x=\"65.75\" y=\"-37.95\" font-family=\"Helvetica,sans-Serif\" font-size=\"14.00\">samples = 86</text>\n",
       "<text xml:space=\"preserve\" text-anchor=\"middle\" x=\"65.75\" y=\"-22.2\" font-family=\"Helvetica,sans-Serif\" font-size=\"14.00\">value = [0, 0, 0, 86]</text>\n",
       "<text xml:space=\"preserve\" text-anchor=\"middle\" x=\"65.75\" y=\"-6.45\" font-family=\"Helvetica,sans-Serif\" font-size=\"14.00\">class = 3</text>\n",
       "</g>\n",
       "<!-- 1&#45;&gt;2 -->\n",
       "<g id=\"edge2\" class=\"edge\">\n",
       "<title>1-&gt;2</title>\n",
       "<path fill=\"none\" stroke=\"black\" d=\"M159.04,-106.7C146.49,-97.26 133.21,-87.27 120.73,-77.87\"/>\n",
       "<polygon fill=\"black\" stroke=\"black\" points=\"123.11,-75.28 113.02,-72.07 118.9,-80.88 123.11,-75.28\"/>\n",
       "</g>\n",
       "<!-- 3 -->\n",
       "<g id=\"node4\" class=\"node\">\n",
       "<title>3</title>\n",
       "<path fill=\"#e58139\" stroke=\"black\" d=\"M276.25,-71C276.25,-71 161.25,-71 161.25,-71 155.25,-71 149.25,-65 149.25,-59 149.25,-59 149.25,-12 149.25,-12 149.25,-6 155.25,0 161.25,0 161.25,0 276.25,0 276.25,0 282.25,0 288.25,-6 288.25,-12 288.25,-12 288.25,-59 288.25,-59 288.25,-65 282.25,-71 276.25,-71\"/>\n",
       "<text xml:space=\"preserve\" text-anchor=\"middle\" x=\"218.75\" y=\"-53.7\" font-family=\"Helvetica,sans-Serif\" font-size=\"14.00\">gini = 0.0</text>\n",
       "<text xml:space=\"preserve\" text-anchor=\"middle\" x=\"218.75\" y=\"-37.95\" font-family=\"Helvetica,sans-Serif\" font-size=\"14.00\">samples = 222</text>\n",
       "<text xml:space=\"preserve\" text-anchor=\"middle\" x=\"218.75\" y=\"-22.2\" font-family=\"Helvetica,sans-Serif\" font-size=\"14.00\">value = [222, 0, 0, 0]</text>\n",
       "<text xml:space=\"preserve\" text-anchor=\"middle\" x=\"218.75\" y=\"-6.45\" font-family=\"Helvetica,sans-Serif\" font-size=\"14.00\">class = 0</text>\n",
       "</g>\n",
       "<!-- 1&#45;&gt;3 -->\n",
       "<g id=\"edge3\" class=\"edge\">\n",
       "<title>1-&gt;3</title>\n",
       "<path fill=\"none\" stroke=\"black\" d=\"M216.88,-106.7C217.09,-98.82 217.31,-90.55 217.53,-82.57\"/>\n",
       "<polygon fill=\"black\" stroke=\"black\" points=\"221.02,-82.76 217.79,-72.67 214.02,-82.57 221.02,-82.76\"/>\n",
       "</g>\n",
       "<!-- 5 -->\n",
       "<g id=\"node6\" class=\"node\">\n",
       "<title>5</title>\n",
       "<path fill=\"#399de5\" stroke=\"black\" d=\"M438.25,-71C438.25,-71 323.25,-71 323.25,-71 317.25,-71 311.25,-65 311.25,-59 311.25,-59 311.25,-12 311.25,-12 311.25,-6 317.25,0 323.25,0 323.25,0 438.25,0 438.25,0 444.25,0 450.25,-6 450.25,-12 450.25,-12 450.25,-59 450.25,-59 450.25,-65 444.25,-71 438.25,-71\"/>\n",
       "<text xml:space=\"preserve\" text-anchor=\"middle\" x=\"380.75\" y=\"-53.7\" font-family=\"Helvetica,sans-Serif\" font-size=\"14.00\">gini = 0.0</text>\n",
       "<text xml:space=\"preserve\" text-anchor=\"middle\" x=\"380.75\" y=\"-37.95\" font-family=\"Helvetica,sans-Serif\" font-size=\"14.00\">samples = 177</text>\n",
       "<text xml:space=\"preserve\" text-anchor=\"middle\" x=\"380.75\" y=\"-22.2\" font-family=\"Helvetica,sans-Serif\" font-size=\"14.00\">value = [0, 0, 177, 0]</text>\n",
       "<text xml:space=\"preserve\" text-anchor=\"middle\" x=\"380.75\" y=\"-6.45\" font-family=\"Helvetica,sans-Serif\" font-size=\"14.00\">class = 2</text>\n",
       "</g>\n",
       "<!-- 4&#45;&gt;5 -->\n",
       "<g id=\"edge5\" class=\"edge\">\n",
       "<title>4-&gt;5</title>\n",
       "<path fill=\"none\" stroke=\"black\" d=\"M382.62,-106.7C382.41,-98.82 382.19,-90.55 381.97,-82.57\"/>\n",
       "<polygon fill=\"black\" stroke=\"black\" points=\"385.48,-82.57 381.71,-72.67 378.48,-82.76 385.48,-82.57\"/>\n",
       "</g>\n",
       "<!-- 6 -->\n",
       "<g id=\"node7\" class=\"node\">\n",
       "<title>6</title>\n",
       "<path fill=\"#47e539\" stroke=\"black\" d=\"M594.88,-71C594.88,-71 480.62,-71 480.62,-71 474.62,-71 468.62,-65 468.62,-59 468.62,-59 468.62,-12 468.62,-12 468.62,-6 474.62,0 480.62,0 480.62,0 594.88,0 594.88,0 600.88,0 606.88,-6 606.88,-12 606.88,-12 606.88,-59 606.88,-59 606.88,-65 600.88,-71 594.88,-71\"/>\n",
       "<text xml:space=\"preserve\" text-anchor=\"middle\" x=\"537.75\" y=\"-53.7\" font-family=\"Helvetica,sans-Serif\" font-size=\"14.00\">gini = 0.0</text>\n",
       "<text xml:space=\"preserve\" text-anchor=\"middle\" x=\"537.75\" y=\"-37.95\" font-family=\"Helvetica,sans-Serif\" font-size=\"14.00\">samples = 115</text>\n",
       "<text xml:space=\"preserve\" text-anchor=\"middle\" x=\"537.75\" y=\"-22.2\" font-family=\"Helvetica,sans-Serif\" font-size=\"14.00\">value = [0, 115, 0, 0]</text>\n",
       "<text xml:space=\"preserve\" text-anchor=\"middle\" x=\"537.75\" y=\"-6.45\" font-family=\"Helvetica,sans-Serif\" font-size=\"14.00\">class = 1</text>\n",
       "</g>\n",
       "<!-- 4&#45;&gt;6 -->\n",
       "<g id=\"edge6\" class=\"edge\">\n",
       "<title>4-&gt;6</title>\n",
       "<path fill=\"none\" stroke=\"black\" d=\"M441.97,-106.7C454.86,-97.26 468.49,-87.27 481.3,-77.87\"/>\n",
       "<polygon fill=\"black\" stroke=\"black\" points=\"483.25,-80.79 489.24,-72.05 479.11,-75.14 483.25,-80.79\"/>\n",
       "</g>\n",
       "</g>\n",
       "</svg>"
      ],
      "text/plain": [
       "<IPython.core.display.SVG object>"
      ]
     },
     "metadata": {},
     "output_type": "display_data"
    }
   ],
   "source": [
    "display(SVG(graph.pipe(format='svg')))"
   ]
  },
  {
   "cell_type": "markdown",
   "metadata": {
    "id": "hFVCHNuQZFl2"
   },
   "source": [
    "##### For model2"
   ]
  },
  {
   "cell_type": "code",
   "execution_count": 223,
   "metadata": {},
   "outputs": [],
   "source": [
    "graph = Source(export_graphviz(model2, out_file=None, \n",
    "                               feature_names=X_train.columns,\n",
    "                               class_names=[str(c) for c in model2.classes_],\n",
    "                               filled=True, rounded=True))"
   ]
  },
  {
   "cell_type": "code",
   "execution_count": 225,
   "metadata": {},
   "outputs": [
    {
     "data": {
      "image/svg+xml": [
       "<svg xmlns=\"http://www.w3.org/2000/svg\" xmlns:xlink=\"http://www.w3.org/1999/xlink\" width=\"615pt\" height=\"325pt\" viewBox=\"0.00 0.00 615.00 325.00\">\n",
       "<g id=\"graph0\" class=\"graph\" transform=\"scale(1 1) rotate(0) translate(4 320.5)\">\n",
       "<title>Tree</title>\n",
       "<polygon fill=\"white\" stroke=\"none\" points=\"-4,4 -4,-320.5 610.88,-320.5 610.88,4 -4,4\"/>\n",
       "<!-- 0 -->\n",
       "<g id=\"node1\" class=\"node\">\n",
       "<title>0</title>\n",
       "<path fill=\"#fcf2ea\" stroke=\"black\" d=\"M398.12,-316.5C398.12,-316.5 201.38,-316.5 201.38,-316.5 195.38,-316.5 189.38,-310.5 189.38,-304.5 189.38,-304.5 189.38,-241.75 189.38,-241.75 189.38,-235.75 195.38,-229.75 201.38,-229.75 201.38,-229.75 398.12,-229.75 398.12,-229.75 404.12,-229.75 410.12,-235.75 410.12,-241.75 410.12,-241.75 410.12,-304.5 410.12,-304.5 410.12,-310.5 404.12,-316.5 398.12,-316.5\"/>\n",
       "<text xml:space=\"preserve\" text-anchor=\"middle\" x=\"299.75\" y=\"-299.2\" font-family=\"Helvetica,sans-Serif\" font-size=\"14.00\">BMI &lt;= 24.979</text>\n",
       "<text xml:space=\"preserve\" text-anchor=\"middle\" x=\"299.75\" y=\"-283.45\" font-family=\"Helvetica,sans-Serif\" font-size=\"14.00\">entropy = 1.909</text>\n",
       "<text xml:space=\"preserve\" text-anchor=\"middle\" x=\"299.75\" y=\"-267.7\" font-family=\"Helvetica,sans-Serif\" font-size=\"14.00\">samples = 600</text>\n",
       "<text xml:space=\"preserve\" text-anchor=\"middle\" x=\"299.75\" y=\"-251.95\" font-family=\"Helvetica,sans-Serif\" font-size=\"14.00\">value = [222.0, 115.0, 177.0, 86.0]</text>\n",
       "<text xml:space=\"preserve\" text-anchor=\"middle\" x=\"299.75\" y=\"-236.2\" font-family=\"Helvetica,sans-Serif\" font-size=\"14.00\">class = 0</text>\n",
       "</g>\n",
       "<!-- 1 -->\n",
       "<g id=\"node2\" class=\"node\">\n",
       "<title>1</title>\n",
       "<path fill=\"#efb286\" stroke=\"black\" d=\"M277,-193.75C277,-193.75 154.5,-193.75 154.5,-193.75 148.5,-193.75 142.5,-187.75 142.5,-181.75 142.5,-181.75 142.5,-119 142.5,-119 142.5,-113 148.5,-107 154.5,-107 154.5,-107 277,-107 277,-107 283,-107 289,-113 289,-119 289,-119 289,-181.75 289,-181.75 289,-187.75 283,-193.75 277,-193.75\"/>\n",
       "<text xml:space=\"preserve\" text-anchor=\"middle\" x=\"215.75\" y=\"-176.45\" font-family=\"Helvetica,sans-Serif\" font-size=\"14.00\">BMI &lt;= 18.475</text>\n",
       "<text xml:space=\"preserve\" text-anchor=\"middle\" x=\"215.75\" y=\"-160.7\" font-family=\"Helvetica,sans-Serif\" font-size=\"14.00\">entropy = 0.854</text>\n",
       "<text xml:space=\"preserve\" text-anchor=\"middle\" x=\"215.75\" y=\"-144.95\" font-family=\"Helvetica,sans-Serif\" font-size=\"14.00\">samples = 308</text>\n",
       "<text xml:space=\"preserve\" text-anchor=\"middle\" x=\"215.75\" y=\"-129.2\" font-family=\"Helvetica,sans-Serif\" font-size=\"14.00\">value = [222, 0, 0, 86]</text>\n",
       "<text xml:space=\"preserve\" text-anchor=\"middle\" x=\"215.75\" y=\"-113.45\" font-family=\"Helvetica,sans-Serif\" font-size=\"14.00\">class = 0</text>\n",
       "</g>\n",
       "<!-- 0&#45;&gt;1 -->\n",
       "<g id=\"edge1\" class=\"edge\">\n",
       "<title>0-&gt;1</title>\n",
       "<path fill=\"none\" stroke=\"black\" d=\"M270.13,-229.55C264.24,-221.08 257.98,-212.09 251.9,-203.33\"/>\n",
       "<polygon fill=\"black\" stroke=\"black\" points=\"254.83,-201.42 246.25,-195.21 249.08,-205.42 254.83,-201.42\"/>\n",
       "<text xml:space=\"preserve\" text-anchor=\"middle\" x=\"240.96\" y=\"-213.15\" font-family=\"Helvetica,sans-Serif\" font-size=\"14.00\">True</text>\n",
       "</g>\n",
       "<!-- 4 -->\n",
       "<g id=\"node5\" class=\"node\">\n",
       "<title>4</title>\n",
       "<path fill=\"#baddf6\" stroke=\"black\" d=\"M448.38,-193.75C448.38,-193.75 319.12,-193.75 319.12,-193.75 313.12,-193.75 307.12,-187.75 307.12,-181.75 307.12,-181.75 307.12,-119 307.12,-119 307.12,-113 313.12,-107 319.12,-107 319.12,-107 448.38,-107 448.38,-107 454.38,-107 460.38,-113 460.38,-119 460.38,-119 460.38,-181.75 460.38,-181.75 460.38,-187.75 454.38,-193.75 448.38,-193.75\"/>\n",
       "<text xml:space=\"preserve\" text-anchor=\"middle\" x=\"383.75\" y=\"-176.45\" font-family=\"Helvetica,sans-Serif\" font-size=\"14.00\">BMI &lt;= 29.995</text>\n",
       "<text xml:space=\"preserve\" text-anchor=\"middle\" x=\"383.75\" y=\"-160.7\" font-family=\"Helvetica,sans-Serif\" font-size=\"14.00\">entropy = 0.967</text>\n",
       "<text xml:space=\"preserve\" text-anchor=\"middle\" x=\"383.75\" y=\"-144.95\" font-family=\"Helvetica,sans-Serif\" font-size=\"14.00\">samples = 292</text>\n",
       "<text xml:space=\"preserve\" text-anchor=\"middle\" x=\"383.75\" y=\"-129.2\" font-family=\"Helvetica,sans-Serif\" font-size=\"14.00\">value = [0, 115, 177, 0]</text>\n",
       "<text xml:space=\"preserve\" text-anchor=\"middle\" x=\"383.75\" y=\"-113.45\" font-family=\"Helvetica,sans-Serif\" font-size=\"14.00\">class = 2</text>\n",
       "</g>\n",
       "<!-- 0&#45;&gt;4 -->\n",
       "<g id=\"edge4\" class=\"edge\">\n",
       "<title>0-&gt;4</title>\n",
       "<path fill=\"none\" stroke=\"black\" d=\"M329.37,-229.55C335.26,-221.08 341.52,-212.09 347.6,-203.33\"/>\n",
       "<polygon fill=\"black\" stroke=\"black\" points=\"350.42,-205.42 353.25,-195.21 344.67,-201.42 350.42,-205.42\"/>\n",
       "<text xml:space=\"preserve\" text-anchor=\"middle\" x=\"358.54\" y=\"-213.15\" font-family=\"Helvetica,sans-Serif\" font-size=\"14.00\">False</text>\n",
       "</g>\n",
       "<!-- 2 -->\n",
       "<g id=\"node3\" class=\"node\">\n",
       "<title>2</title>\n",
       "<path fill=\"#d739e5\" stroke=\"black\" d=\"M119.5,-71C119.5,-71 12,-71 12,-71 6,-71 0,-65 0,-59 0,-59 0,-12 0,-12 0,-6 6,0 12,0 12,0 119.5,0 119.5,0 125.5,0 131.5,-6 131.5,-12 131.5,-12 131.5,-59 131.5,-59 131.5,-65 125.5,-71 119.5,-71\"/>\n",
       "<text xml:space=\"preserve\" text-anchor=\"middle\" x=\"65.75\" y=\"-53.7\" font-family=\"Helvetica,sans-Serif\" font-size=\"14.00\">entropy = 0.0</text>\n",
       "<text xml:space=\"preserve\" text-anchor=\"middle\" x=\"65.75\" y=\"-37.95\" font-family=\"Helvetica,sans-Serif\" font-size=\"14.00\">samples = 86</text>\n",
       "<text xml:space=\"preserve\" text-anchor=\"middle\" x=\"65.75\" y=\"-22.2\" font-family=\"Helvetica,sans-Serif\" font-size=\"14.00\">value = [0, 0, 0, 86]</text>\n",
       "<text xml:space=\"preserve\" text-anchor=\"middle\" x=\"65.75\" y=\"-6.45\" font-family=\"Helvetica,sans-Serif\" font-size=\"14.00\">class = 3</text>\n",
       "</g>\n",
       "<!-- 1&#45;&gt;2 -->\n",
       "<g id=\"edge2\" class=\"edge\">\n",
       "<title>1-&gt;2</title>\n",
       "<path fill=\"none\" stroke=\"black\" d=\"M159.04,-106.7C146.49,-97.26 133.21,-87.27 120.73,-77.87\"/>\n",
       "<polygon fill=\"black\" stroke=\"black\" points=\"123.11,-75.28 113.02,-72.07 118.9,-80.88 123.11,-75.28\"/>\n",
       "</g>\n",
       "<!-- 3 -->\n",
       "<g id=\"node4\" class=\"node\">\n",
       "<title>3</title>\n",
       "<path fill=\"#e58139\" stroke=\"black\" d=\"M276.25,-71C276.25,-71 161.25,-71 161.25,-71 155.25,-71 149.25,-65 149.25,-59 149.25,-59 149.25,-12 149.25,-12 149.25,-6 155.25,0 161.25,0 161.25,0 276.25,0 276.25,0 282.25,0 288.25,-6 288.25,-12 288.25,-12 288.25,-59 288.25,-59 288.25,-65 282.25,-71 276.25,-71\"/>\n",
       "<text xml:space=\"preserve\" text-anchor=\"middle\" x=\"218.75\" y=\"-53.7\" font-family=\"Helvetica,sans-Serif\" font-size=\"14.00\">entropy = 0.0</text>\n",
       "<text xml:space=\"preserve\" text-anchor=\"middle\" x=\"218.75\" y=\"-37.95\" font-family=\"Helvetica,sans-Serif\" font-size=\"14.00\">samples = 222</text>\n",
       "<text xml:space=\"preserve\" text-anchor=\"middle\" x=\"218.75\" y=\"-22.2\" font-family=\"Helvetica,sans-Serif\" font-size=\"14.00\">value = [222, 0, 0, 0]</text>\n",
       "<text xml:space=\"preserve\" text-anchor=\"middle\" x=\"218.75\" y=\"-6.45\" font-family=\"Helvetica,sans-Serif\" font-size=\"14.00\">class = 0</text>\n",
       "</g>\n",
       "<!-- 1&#45;&gt;3 -->\n",
       "<g id=\"edge3\" class=\"edge\">\n",
       "<title>1-&gt;3</title>\n",
       "<path fill=\"none\" stroke=\"black\" d=\"M216.88,-106.7C217.09,-98.82 217.31,-90.55 217.53,-82.57\"/>\n",
       "<polygon fill=\"black\" stroke=\"black\" points=\"221.02,-82.76 217.79,-72.67 214.02,-82.57 221.02,-82.76\"/>\n",
       "</g>\n",
       "<!-- 5 -->\n",
       "<g id=\"node6\" class=\"node\">\n",
       "<title>5</title>\n",
       "<path fill=\"#399de5\" stroke=\"black\" d=\"M438.25,-71C438.25,-71 323.25,-71 323.25,-71 317.25,-71 311.25,-65 311.25,-59 311.25,-59 311.25,-12 311.25,-12 311.25,-6 317.25,0 323.25,0 323.25,0 438.25,0 438.25,0 444.25,0 450.25,-6 450.25,-12 450.25,-12 450.25,-59 450.25,-59 450.25,-65 444.25,-71 438.25,-71\"/>\n",
       "<text xml:space=\"preserve\" text-anchor=\"middle\" x=\"380.75\" y=\"-53.7\" font-family=\"Helvetica,sans-Serif\" font-size=\"14.00\">entropy = 0.0</text>\n",
       "<text xml:space=\"preserve\" text-anchor=\"middle\" x=\"380.75\" y=\"-37.95\" font-family=\"Helvetica,sans-Serif\" font-size=\"14.00\">samples = 177</text>\n",
       "<text xml:space=\"preserve\" text-anchor=\"middle\" x=\"380.75\" y=\"-22.2\" font-family=\"Helvetica,sans-Serif\" font-size=\"14.00\">value = [0, 0, 177, 0]</text>\n",
       "<text xml:space=\"preserve\" text-anchor=\"middle\" x=\"380.75\" y=\"-6.45\" font-family=\"Helvetica,sans-Serif\" font-size=\"14.00\">class = 2</text>\n",
       "</g>\n",
       "<!-- 4&#45;&gt;5 -->\n",
       "<g id=\"edge5\" class=\"edge\">\n",
       "<title>4-&gt;5</title>\n",
       "<path fill=\"none\" stroke=\"black\" d=\"M382.62,-106.7C382.41,-98.82 382.19,-90.55 381.97,-82.57\"/>\n",
       "<polygon fill=\"black\" stroke=\"black\" points=\"385.48,-82.57 381.71,-72.67 378.48,-82.76 385.48,-82.57\"/>\n",
       "</g>\n",
       "<!-- 6 -->\n",
       "<g id=\"node7\" class=\"node\">\n",
       "<title>6</title>\n",
       "<path fill=\"#47e539\" stroke=\"black\" d=\"M594.88,-71C594.88,-71 480.62,-71 480.62,-71 474.62,-71 468.62,-65 468.62,-59 468.62,-59 468.62,-12 468.62,-12 468.62,-6 474.62,0 480.62,0 480.62,0 594.88,0 594.88,0 600.88,0 606.88,-6 606.88,-12 606.88,-12 606.88,-59 606.88,-59 606.88,-65 600.88,-71 594.88,-71\"/>\n",
       "<text xml:space=\"preserve\" text-anchor=\"middle\" x=\"537.75\" y=\"-53.7\" font-family=\"Helvetica,sans-Serif\" font-size=\"14.00\">entropy = 0.0</text>\n",
       "<text xml:space=\"preserve\" text-anchor=\"middle\" x=\"537.75\" y=\"-37.95\" font-family=\"Helvetica,sans-Serif\" font-size=\"14.00\">samples = 115</text>\n",
       "<text xml:space=\"preserve\" text-anchor=\"middle\" x=\"537.75\" y=\"-22.2\" font-family=\"Helvetica,sans-Serif\" font-size=\"14.00\">value = [0, 115, 0, 0]</text>\n",
       "<text xml:space=\"preserve\" text-anchor=\"middle\" x=\"537.75\" y=\"-6.45\" font-family=\"Helvetica,sans-Serif\" font-size=\"14.00\">class = 1</text>\n",
       "</g>\n",
       "<!-- 4&#45;&gt;6 -->\n",
       "<g id=\"edge6\" class=\"edge\">\n",
       "<title>4-&gt;6</title>\n",
       "<path fill=\"none\" stroke=\"black\" d=\"M441.97,-106.7C454.86,-97.26 468.49,-87.27 481.3,-77.87\"/>\n",
       "<polygon fill=\"black\" stroke=\"black\" points=\"483.25,-80.79 489.24,-72.05 479.11,-75.14 483.25,-80.79\"/>\n",
       "</g>\n",
       "</g>\n",
       "</svg>"
      ],
      "text/plain": [
       "<IPython.core.display.SVG object>"
      ]
     },
     "metadata": {},
     "output_type": "display_data"
    }
   ],
   "source": [
    "# The following requires graphviz on your computer\n",
    "display(SVG(graph.pipe(format='svg')))"
   ]
  },
  {
   "cell_type": "markdown",
   "metadata": {
    "id": "GPo1DvCtZWTG"
   },
   "source": [
    "Q14 : Explain which one is more interpretable. Give your reasons."
   ]
  },
  {
   "cell_type": "markdown",
   "metadata": {},
   "source": [
    "Le modèle le plus interprétable est celui dont l’arbre est le plus simple, c’est-à-dire avec peu de nœuds et peu de feuilles.\n",
    "Ici, les deux modèles (Gini et Entropy) ont exactement la même structure : profondeur = 2, 7 nœuds et 4 feuilles.\n",
    "Cela signifie que les deux modèles sont très faciles à comprendre, car il suffit de suivre les quelques règles de l’arbre pour prédire la catégorie d’obésité."
   ]
  },
  {
   "cell_type": "code",
   "execution_count": 227,
   "metadata": {},
   "outputs": [
    {
     "name": "stdout",
     "output_type": "stream",
     "text": [
      "COMPARAISON DES MODÈLES\n",
      "\n",
      "Modèle 1 (Gini) :\n",
      "  - Profondeur maximale : 2\n",
      "  - Nombre de nœuds : 7\n",
      "  - Nombre de feuilles : 4\n",
      "\n",
      "Modèle 2 (Entropy) :\n",
      "  - Profondeur maximale : 2\n",
      "  - Nombre de nœuds : 7\n",
      "  - Nombre de feuilles : 4\n"
     ]
    }
   ],
   "source": [
    "print(\"COMPARAISON DES MODÈLES\")\n",
    "\n",
    "print(\"\\nModèle 1 (Gini) :\")\n",
    "print(f\"  - Profondeur maximale : {model1.get_depth()}\")\n",
    "print(f\"  - Nombre de nœuds : {model1.tree_.node_count}\")\n",
    "print(f\"  - Nombre de feuilles : {model1.get_n_leaves()}\")\n",
    "\n",
    "print(\"\\nModèle 2 (Entropy) :\")\n",
    "print(f\"  - Profondeur maximale : {model2.get_depth()}\")\n",
    "print(f\"  - Nombre de nœuds : {model2.tree_.node_count}\")\n",
    "print(f\"  - Nombre de feuilles : {model2.get_n_leaves()}\")"
   ]
  },
  {
   "cell_type": "markdown",
   "metadata": {
    "id": "e8t4cMs3Z3Rq"
   },
   "source": [
    "# **Section 2**"
   ]
  },
  {
   "cell_type": "markdown",
   "metadata": {
    "id": "kH846WoMrxEl"
   },
   "source": [
    "Now you will test one of the algorithms used to construct a decision tree! In this section, we will see how to perform this from scratch.\n",
    "\n",
    "Therefore, due to the complexity involved in the construction, we will use another binary dataset available in the same folder under the name obesity_binary."
   ]
  },
  {
   "cell_type": "markdown",
   "metadata": {
    "id": "tmy_-mptsO0b"
   },
   "source": [
    "#### *Construct a decision tree using the ID3 algorithm based on information gain.*"
   ]
  },
  {
   "cell_type": "markdown",
   "metadata": {
    "id": "qX80Y0BRsT37"
   },
   "source": [
    "**Information Gain**\n",
    "\n",
    "Information Gain measures the reduction in entropy about the target variable after splitting a dataset based on a particular feature.\n",
    "\n",
    "![image.png](https://spicerrobotboy.files.wordpress.com/2012/01/decision-tree-equations.png)\n"
   ]
  },
  {
   "cell_type": "markdown",
   "metadata": {
    "id": "aS1yxfwstdBY"
   },
   "source": [
    "Q15 : Load data"
   ]
  },
  {
   "cell_type": "markdown",
   "metadata": {
    "id": "uOU2_bSJvWip"
   },
   "source": [
    "Answer ..."
   ]
  },
  {
   "cell_type": "code",
   "execution_count": 96,
   "metadata": {},
   "outputs": [
    {
     "name": "stdout",
     "output_type": "stream",
     "text": [
      "(8, 7)\n"
     ]
    },
    {
     "data": {
      "text/html": [
       "<div>\n",
       "<style scoped>\n",
       "    .dataframe tbody tr th:only-of-type {\n",
       "        vertical-align: middle;\n",
       "    }\n",
       "\n",
       "    .dataframe tbody tr th {\n",
       "        vertical-align: top;\n",
       "    }\n",
       "\n",
       "    .dataframe thead th {\n",
       "        text-align: right;\n",
       "    }\n",
       "</style>\n",
       "<table border=\"1\" class=\"dataframe\">\n",
       "  <thead>\n",
       "    <tr style=\"text-align: right;\">\n",
       "      <th></th>\n",
       "      <th>Age</th>\n",
       "      <th>Gender</th>\n",
       "      <th>Height</th>\n",
       "      <th>Weight</th>\n",
       "      <th>BMI</th>\n",
       "      <th>PhysicalActivityLevel</th>\n",
       "      <th>ObesityCategory</th>\n",
       "    </tr>\n",
       "  </thead>\n",
       "  <tbody>\n",
       "    <tr>\n",
       "      <th>0</th>\n",
       "      <td>0</td>\n",
       "      <td>0</td>\n",
       "      <td>1</td>\n",
       "      <td>0</td>\n",
       "      <td>0</td>\n",
       "      <td>1</td>\n",
       "      <td>0</td>\n",
       "    </tr>\n",
       "    <tr>\n",
       "      <th>1</th>\n",
       "      <td>1</td>\n",
       "      <td>1</td>\n",
       "      <td>0</td>\n",
       "      <td>1</td>\n",
       "      <td>1</td>\n",
       "      <td>0</td>\n",
       "      <td>1</td>\n",
       "    </tr>\n",
       "    <tr>\n",
       "      <th>2</th>\n",
       "      <td>0</td>\n",
       "      <td>1</td>\n",
       "      <td>1</td>\n",
       "      <td>1</td>\n",
       "      <td>1</td>\n",
       "      <td>0</td>\n",
       "      <td>1</td>\n",
       "    </tr>\n",
       "    <tr>\n",
       "      <th>3</th>\n",
       "      <td>1</td>\n",
       "      <td>0</td>\n",
       "      <td>1</td>\n",
       "      <td>1</td>\n",
       "      <td>1</td>\n",
       "      <td>0</td>\n",
       "      <td>1</td>\n",
       "    </tr>\n",
       "    <tr>\n",
       "      <th>4</th>\n",
       "      <td>1</td>\n",
       "      <td>1</td>\n",
       "      <td>0</td>\n",
       "      <td>0</td>\n",
       "      <td>0</td>\n",
       "      <td>1</td>\n",
       "      <td>0</td>\n",
       "    </tr>\n",
       "    <tr>\n",
       "      <th>5</th>\n",
       "      <td>0</td>\n",
       "      <td>0</td>\n",
       "      <td>0</td>\n",
       "      <td>1</td>\n",
       "      <td>1</td>\n",
       "      <td>1</td>\n",
       "      <td>1</td>\n",
       "    </tr>\n",
       "    <tr>\n",
       "      <th>6</th>\n",
       "      <td>0</td>\n",
       "      <td>1</td>\n",
       "      <td>1</td>\n",
       "      <td>0</td>\n",
       "      <td>0</td>\n",
       "      <td>1</td>\n",
       "      <td>0</td>\n",
       "    </tr>\n",
       "    <tr>\n",
       "      <th>7</th>\n",
       "      <td>1</td>\n",
       "      <td>0</td>\n",
       "      <td>0</td>\n",
       "      <td>1</td>\n",
       "      <td>1</td>\n",
       "      <td>0</td>\n",
       "      <td>1</td>\n",
       "    </tr>\n",
       "  </tbody>\n",
       "</table>\n",
       "</div>"
      ],
      "text/plain": [
       "   Age  Gender  Height  Weight  BMI  PhysicalActivityLevel  ObesityCategory\n",
       "0    0       0       1       0    0                      1                0\n",
       "1    1       1       0       1    1                      0                1\n",
       "2    0       1       1       1    1                      0                1\n",
       "3    1       0       1       1    1                      0                1\n",
       "4    1       1       0       0    0                      1                0\n",
       "5    0       0       0       1    1                      1                1\n",
       "6    0       1       1       0    0                      1                0\n",
       "7    1       0       0       1    1                      0                1"
      ]
     },
     "execution_count": 96,
     "metadata": {},
     "output_type": "execute_result"
    }
   ],
   "source": [
    "df_binary=pd.read_csv('Health-Data-modelling/lab1/obesity_binary.csv')\n",
    "print(df_binary.shape)\n",
    "df_binary"
   ]
  },
  {
   "cell_type": "markdown",
   "metadata": {
    "id": "A7s0F9HKvcS_"
   },
   "source": [
    "Q16 : Which attribute should be chosen for the root node?"
   ]
  },
  {
   "cell_type": "markdown",
   "metadata": {
    "id": "cYZ3Ur3VvYUs"
   },
   "source": [
    "L’attribut choisi pour le nœud racine est l’IMC (BMI), car c’est celui qui offre le gain d’information le plus élevé parmi toutes les caractéristiques."
   ]
  },
  {
   "cell_type": "markdown",
   "metadata": {
    "id": "QhJoBJ-xvZ7e"
   },
   "source": [
    "Q17 : Write a function to build the tree and visualize the tree."
   ]
  },
  {
   "cell_type": "code",
   "execution_count": 104,
   "metadata": {
    "id": "W_70dQKewTw8"
   },
   "outputs": [
    {
     "data": {
      "image/png": "[encoded data removed]",
      "text/plain": [
       "<Figure size 1200x800 with 1 Axes>"
      ]
     },
     "metadata": {},
     "output_type": "display_data"
    },
    {
     "name": "stdout",
     "output_type": "stream",
     "text": [
      "|--- BMI <= 0.50\n",
      "|   |--- class: 0\n",
      "|--- BMI >  0.50\n",
      "|   |--- class: 1\n",
      "\n"
     ]
    }
   ],
   "source": [
    "from sklearn.tree import DecisionTreeClassifier, export_text, plot_tree\n",
    "import matplotlib.pyplot as plt\n",
    "\n",
    "# X = features, y = target\n",
    "X = df_binary.drop('ObesityCategory', axis=1)\n",
    "y = df_binary['ObesityCategory']\n",
    "\n",
    "# Créer l'arbre\n",
    "tree = DecisionTreeClassifier(criterion='entropy', random_state=0)\n",
    "tree.fit(X, y)\n",
    "\n",
    "# Visualiser l'arbre\n",
    "plt.figure(figsize=(12,8))\n",
    "plot_tree(tree, feature_names=X.columns, class_names=['0','1'], filled=True)\n",
    "plt.show()\n",
    "\n",
    "# Affichage en texte\n",
    "print(export_text(tree, feature_names=list(X.columns)))\n"
   ]
  },
  {
   "cell_type": "markdown",
   "metadata": {
    "id": "lx87FUfUvv5d"
   },
   "source": [
    "Q18 : What is the maximum depth of the tree?"
   ]
  },
  {
   "cell_type": "code",
   "execution_count": 106,
   "metadata": {},
   "outputs": [
    {
     "name": "stdout",
     "output_type": "stream",
     "text": [
      "Maximum depth of the tree: 1\n"
     ]
    }
   ],
   "source": [
    "max_depth = tree.get_depth()\n",
    "print(\"Maximum depth of the tree:\", max_depth)\n"
   ]
  },
  {
   "cell_type": "markdown",
   "metadata": {
    "id": "mIofc_K1voxc"
   },
   "source": [
    "Q19 : How many leaf nodes do you have?"
   ]
  },
  {
   "cell_type": "code",
   "execution_count": 108,
   "metadata": {},
   "outputs": [
    {
     "name": "stdout",
     "output_type": "stream",
     "text": [
      "Number of leaf nodes: 2\n"
     ]
    }
   ],
   "source": [
    "n_leaves = tree.get_n_leaves()\n",
    "print(\"Number of leaf nodes:\", n_leaves)\n"
   ]
  },
  {
   "cell_type": "markdown",
   "metadata": {
    "id": "KsBT8qeDwFT2"
   },
   "source": [
    "# **section 3**"
   ]
  },
  {
   "cell_type": "markdown",
   "metadata": {
    "id": "J18KhpLRwKvW"
   },
   "source": [
    "Q20: Repeat the exercise (section 2) for the C4.5 algorithm."
   ]
  },
  {
   "cell_type": "code",
   "execution_count": null,
   "metadata": {},
   "outputs": [],
   "source": []
  }
 ],
 "metadata": {
  "colab": {
   "provenance": []
  },
  "kernelspec": {
   "display_name": "Python [conda env:base] *",
   "language": "python",
   "name": "conda-base-py"
  },
  "language_info": {
   "codemirror_mode": {
    "name": "ipython",
    "version": 3
   },
   "file_extension": ".py",
   "mimetype": "text/x-python",
   "name": "python",
   "nbconvert_exporter": "python",
   "pygments_lexer": "ipython3",
   "version": "3.12.7"
  }
 },
 "nbformat": 4,
 "nbformat_minor": 4
}
